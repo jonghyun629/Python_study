{
 "cells": [
  {
   "cell_type": "markdown",
   "id": "b3364320",
   "metadata": {
    "id": "b3364320"
   },
   "source": [
    "# 🔹 1. Variables in Python\n",
    "\n",
    "A **variable** is like a box where you store data.\n",
    "\n",
    "- You create a variable by giving it a name and assigning it a value using `=`.\n",
    "- Python automatically knows the type of data (no need to declare it like in Java or C++)."
   ]
  },
  {
   "cell_type": "code",
   "execution_count": 1,
   "id": "uO1JdYU5BjRo",
   "metadata": {
    "id": "uO1JdYU5BjRo"
   },
   "outputs": [],
   "source": [
    "x = 10        # an integer\n",
    "y = 3.14      # a float\n",
    "name = \"Roy\"  # a string"
   ]
  },
  {
   "cell_type": "markdown",
   "id": "GDv6ntOfBoL1",
   "metadata": {
    "id": "GDv6ntOfBoL1"
   },
   "source": [
    "👉 Here, x, y, and name are variables."
   ]
  },
  {
   "cell_type": "markdown",
   "id": "c2a4efc5",
   "metadata": {
    "id": "c2a4efc5"
   },
   "source": [
    "---"
   ]
  },
  {
   "cell_type": "markdown",
   "id": "8HS5_L3zCFJ7",
   "metadata": {
    "id": "8HS5_L3zCFJ7"
   },
   "source": [
    "# 🔹 2. Data Types\n",
    "\n",
    "### (A) **Integer (`int`)**\n",
    "\n",
    "Whole numbers, positive or negative, without decimals."
   ]
  },
  {
   "cell_type": "code",
   "execution_count": 2,
   "id": "D2OMhZ-nCB6v",
   "metadata": {
    "id": "D2OMhZ-nCB6v"
   },
   "outputs": [
    {
     "name": "stdout",
     "output_type": "stream",
     "text": [
      "<class 'int'>\n"
     ]
    }
   ],
   "source": [
    "age = 25\n",
    "year = -2025\n",
    "print(type(age))   # <class 'int'>"
   ]
  },
  {
   "cell_type": "markdown",
   "id": "6YnS_ghRCIUy",
   "metadata": {
    "id": "6YnS_ghRCIUy"
   },
   "source": [
    "### (B) **Float (`float`)**\n",
    "\n",
    "Numbers with decimals."
   ]
  },
  {
   "cell_type": "code",
   "execution_count": 3,
   "id": "gmZlAefXCLMj",
   "metadata": {
    "id": "gmZlAefXCLMj"
   },
   "outputs": [
    {
     "name": "stdout",
     "output_type": "stream",
     "text": [
      "<class 'float'>\n"
     ]
    }
   ],
   "source": [
    "pi = 3.14159\n",
    "temperature = -7.5\n",
    "print(type(pi))   # <class 'float'>"
   ]
  },
  {
   "cell_type": "markdown",
   "id": "l7yLpImYCPaU",
   "metadata": {
    "id": "l7yLpImYCPaU"
   },
   "source": [
    "### (C) **String (`str`)**\n",
    "\n",
    "Text inside quotes (`\" \"` or `' '`)."
   ]
  },
  {
   "cell_type": "code",
   "execution_count": 4,
   "id": "9W9dkrFYCQl1",
   "metadata": {
    "id": "9W9dkrFYCQl1"
   },
   "outputs": [
    {
     "name": "stdout",
     "output_type": "stream",
     "text": [
      "<class 'str'>\n"
     ]
    }
   ],
   "source": [
    "greeting = \"Hello\"\n",
    "letter = 'A'\n",
    "print(type(greeting))   # <class 'str'>"
   ]
  },
  {
   "cell_type": "markdown",
   "id": "QquTpVvKCTdg",
   "metadata": {
    "id": "QquTpVvKCTdg"
   },
   "source": [
    "---"
   ]
  },
  {
   "cell_type": "markdown",
   "id": "KwGkNiSICW-6",
   "metadata": {
    "id": "KwGkNiSICW-6"
   },
   "source": [
    "# 🔹 3. Using Variables\n",
    "\n",
    "You can do math with numbers and join strings."
   ]
  },
  {
   "cell_type": "code",
   "execution_count": 5,
   "id": "rMWLN71qCUCo",
   "metadata": {
    "id": "rMWLN71qCUCo"
   },
   "outputs": [
    {
     "name": "stdout",
     "output_type": "stream",
     "text": [
      "13\n",
      "3.3333333333333335\n",
      "Hello World\n"
     ]
    }
   ],
   "source": [
    "# Math\n",
    "a = 10\n",
    "b = 3\n",
    "print(a + b)   # 13\n",
    "print(a / b)   # 3.333...\n",
    "\n",
    "# String operations\n",
    "first = \"Hello\"\n",
    "second = \"World\"\n",
    "print(first + \" \" + second)  # Hello World"
   ]
  },
  {
   "cell_type": "markdown",
   "id": "2f3z277fCbuE",
   "metadata": {
    "id": "2f3z277fCbuE"
   },
   "source": [
    "---"
   ]
  },
  {
   "cell_type": "markdown",
   "id": "J2CtckU-CfBU",
   "metadata": {
    "id": "J2CtckU-CfBU"
   },
   "source": [
    "# 🔹 4. Converting Between Types\n",
    "\n",
    "Sometimes you need to change a variable’s type."
   ]
  },
  {
   "cell_type": "code",
   "execution_count": 6,
   "id": "1Bla-cFTCa0y",
   "metadata": {
    "id": "1Bla-cFTCa0y"
   },
   "outputs": [
    {
     "name": "stdout",
     "output_type": "stream",
     "text": [
      "10\n",
      "10.0\n"
     ]
    }
   ],
   "source": [
    "x = 10\n",
    "y = str(x)     # convert int → str\n",
    "z = float(x)   # convert int → float\n",
    "\n",
    "print(y)       # \"10\" (string)\n",
    "print(z)       # 10.0 (float)"
   ]
  },
  {
   "cell_type": "markdown",
   "id": "1Dnj6ss7CrdX",
   "metadata": {
    "id": "1Dnj6ss7CrdX"
   },
   "source": [
    "\n",
    "\n",
    "---\n",
    "\n"
   ]
  },
  {
   "cell_type": "markdown",
   "id": "4mQPM6RkCnMs",
   "metadata": {
    "id": "4mQPM6RkCnMs"
   },
   "source": [
    "# 🔹 5. Practice 📝\n",
    "\n",
    "Try these in your Python:\n",
    "\n",
    "1. Create:\n",
    "    - an `int` called `age`\n",
    "    - a `float` called `height`\n",
    "    - a `str` called `name`\n",
    "2. Print them out.\n",
    "3. Add 5 to `age`.\n",
    "4. Concatenate `\" is learning Python\"` to `name`."
   ]
  },
  {
   "cell_type": "markdown",
   "id": "egn6m9qXClbZ",
   "metadata": {
    "id": "egn6m9qXClbZ"
   },
   "source": [
    "---"
   ]
  },
  {
   "cell_type": "markdown",
   "id": "50098984",
   "metadata": {},
   "source": []
  }
 ],
 "metadata": {
  "colab": {
   "provenance": []
  },
  "kernelspec": {
   "display_name": "base",
   "language": "python",
   "name": "python3"
  },
  "language_info": {
   "codemirror_mode": {
    "name": "ipython",
    "version": 3
   },
   "file_extension": ".py",
   "mimetype": "text/x-python",
   "name": "python",
   "nbconvert_exporter": "python",
   "pygments_lexer": "ipython3",
   "version": "3.13.5"
  }
 },
 "nbformat": 4,
 "nbformat_minor": 5
}
