{
 "cells": [
  {
   "cell_type": "markdown",
   "id": "b3364320",
   "metadata": {},
   "source": [
    "# 🔹 1. Output in Python\n",
    "\n",
    "You use `print()` to display something."
   ]
  },
  {
   "cell_type": "code",
   "execution_count": null,
   "id": "8a377848",
   "metadata": {},
   "outputs": [],
   "source": [
    "print(\"Hello, World!\")"
   ]
  },
  {
   "cell_type": "markdown",
   "id": "8cb2986a",
   "metadata": {},
   "source": [
    "You can print variables too:"
   ]
  },
  {
   "cell_type": "code",
   "execution_count": null,
   "id": "07dabb78",
   "metadata": {},
   "outputs": [],
   "source": [
    "name = \"Roy\"\n",
    "age = 25\n",
    "print(name)\n",
    "print(age)"
   ]
  },
  {
   "cell_type": "markdown",
   "id": "f61914a1",
   "metadata": {},
   "source": [
    "---"
   ]
  },
  {
   "cell_type": "markdown",
   "id": "98c19198",
   "metadata": {},
   "source": [
    "# 🔹 2. Input in Python\n",
    "\n",
    "`input()` lets the user type something in."
   ]
  },
  {
   "cell_type": "code",
   "execution_count": null,
   "id": "ac5a39ec",
   "metadata": {},
   "outputs": [],
   "source": [
    "user_name = input(\"What is your name? \")\n",
    "print(\"Hello, \" + user_name)"
   ]
  },
  {
   "cell_type": "markdown",
   "id": "65c49ee3",
   "metadata": {},
   "source": [
    "⚡ Note: `input()` always gives you a **string** (even if you type a number).\n",
    "\n",
    "If you want a number, you need to convert:"
   ]
  },
  {
   "cell_type": "code",
   "execution_count": null,
   "id": "b9f5c10e",
   "metadata": {},
   "outputs": [],
   "source": [
    "age = int(input(\"Enter your age: \"))   # convert to int\n",
    "height = float(input(\"Enter your height: \"))  # convert to float\n",
    "\n",
    "print(\"Next year you will be\", age + 1)\n"
   ]
  },
  {
   "cell_type": "markdown",
   "id": "1c7c1322",
   "metadata": {},
   "source": [
    "---"
   ]
  },
  {
   "cell_type": "markdown",
   "id": "e9a0dab9",
   "metadata": {},
   "source": [
    "# 🔹 3. f-Strings (formatted strings)\n",
    "\n",
    "Instead of writing:\n"
   ]
  },
  {
   "cell_type": "code",
   "execution_count": null,
   "id": "3c588c2d",
   "metadata": {},
   "outputs": [],
   "source": [
    "name = \"Roy\"\n",
    "age = 25\n",
    "print(\"My name is \" + name + \" and I am \" + str(age) + \" years old.\")"
   ]
  },
  {
   "cell_type": "markdown",
   "id": "b86df7cf",
   "metadata": {},
   "source": [
    "You can use **f-strings** (cleaner and faster):"
   ]
  },
  {
   "cell_type": "code",
   "execution_count": null,
   "id": "4bb86be4",
   "metadata": {},
   "outputs": [],
   "source": [
    "print(f\"My name is {name} and I am {age} years old.\")"
   ]
  },
  {
   "cell_type": "markdown",
   "id": "61aa14f9",
   "metadata": {},
   "source": [
    "### More examples:"
   ]
  },
  {
   "cell_type": "code",
   "execution_count": null,
   "id": "b9af19b3",
   "metadata": {},
   "outputs": [],
   "source": [
    "pi = 3.14159\n",
    "print(f\"Pi is approximately {pi:.2f}\")   # 2 decimal places"
   ]
  },
  {
   "cell_type": "code",
   "execution_count": null,
   "id": "3459a565",
   "metadata": {},
   "outputs": [],
   "source": [
    "x = 5\n",
    "y = 10\n",
    "print(f\"{x} + {y} = {x+y}\")   # f-strings can do calculations too!"
   ]
  },
  {
   "cell_type": "markdown",
   "id": "d33f90dd",
   "metadata": {},
   "source": [
    "---"
   ]
  },
  {
   "cell_type": "markdown",
   "id": "2ddcd1c1",
   "metadata": {},
   "source": [
    "# 🔹 4. Practice 📝\n",
    "\n",
    "Try this:\n",
    "\n",
    "1. Ask the user for their **name** and **favorite number**.\n",
    "2. Convert the number to an integer.\n",
    "3. Print out a message using an **f-string**, like:\n",
    "    \n",
    "    ```\n",
    "    Hello Roy! Your favorite number is 7, and double of it is 14.\n",
    "    \n",
    "    ```\n",
    "---"
   ]
  },
  {
   "cell_type": "markdown",
   "id": "2dafc902",
   "metadata": {},
   "source": []
  }
 ],
 "metadata": {
  "language_info": {
   "name": "python"
  }
 },
 "nbformat": 4,
 "nbformat_minor": 5
}
