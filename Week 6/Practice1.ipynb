{
 "cells": [
  {
   "cell_type": "markdown",
   "id": "a3e55af6",
   "metadata": {},
   "source": [
    "# Practice 📝\n",
    "\n",
    "1. Make a list comprehension for **odd numbers from 1–10**.\n",
    "2. Make a list comprehension that converts a list of words into uppercase.\n",
    "    \n",
    "    ```python\n",
    "    words = [\"python\", \"is\", \"fun\"]\n",
    "    \n",
    "    ```\n",
    "    \n",
    "3. Write a generator function that yields numbers divisible by 3 up to 20.\n",
    "4. Use a generator expression to create cubes (`x**3`) for numbers 1–5.\n",
    "---"
   ]
  },
  {
   "cell_type": "code",
   "execution_count": 1,
   "id": "6a9507c7",
   "metadata": {},
   "outputs": [
    {
     "name": "stdout",
     "output_type": "stream",
     "text": [
      "[1, 3, 5, 7, 9]\n"
     ]
    }
   ],
   "source": [
    "# 1. List Comprehension for Odd Numbers\n",
    "\n",
    "odd_num = [i for i in range(1, 11) if i % 2 != 0]\n",
    "print(odd_num)"
   ]
  },
  {
   "cell_type": "code",
   "execution_count": 3,
   "id": "af541243",
   "metadata": {},
   "outputs": [
    {
     "name": "stdout",
     "output_type": "stream",
     "text": [
      "['PYTHON', 'IS', 'FUN']\n"
     ]
    }
   ],
   "source": [
    "# 2. List Comprehension to Uppercase Words\n",
    "\n",
    "words = ['python', 'is', 'fun']\n",
    "upper = [word.upper() for word in words]\n",
    "\n",
    "print(upper)"
   ]
  },
  {
   "cell_type": "code",
   "execution_count": 7,
   "id": "b3bf0f20",
   "metadata": {},
   "outputs": [
    {
     "name": "stdout",
     "output_type": "stream",
     "text": [
      "[3, 6, 9, 12, 15, 18]\n"
     ]
    }
   ],
   "source": [
    "# 3. Generator Function for Numbers Divisible by 3\n",
    "\n",
    "def div_three():\n",
    "    for i in range(3, 21):\n",
    "        if i % 3 == 0:\n",
    "            yield(i)\n",
    "\n",
    "print(list(div_three()))"
   ]
  },
  {
   "cell_type": "code",
   "execution_count": 8,
   "id": "6cf45d1b",
   "metadata": {},
   "outputs": [
    {
     "name": "stdout",
     "output_type": "stream",
     "text": [
      "[1, 8, 27, 64, 125]\n"
     ]
    }
   ],
   "source": [
    "# 4. Generator Expression for Cubes of Numbers 1-5\n",
    "\n",
    "num = (i**3 for i in range(1,6))\n",
    "print(list(num))"
   ]
  },
  {
   "cell_type": "code",
   "execution_count": null,
   "id": "30414218",
   "metadata": {},
   "outputs": [],
   "source": []
  }
 ],
 "metadata": {
  "colab": {
   "provenance": []
  },
  "kernelspec": {
   "display_name": "base",
   "language": "python",
   "name": "python3"
  },
  "language_info": {
   "codemirror_mode": {
    "name": "ipython",
    "version": 3
   },
   "file_extension": ".py",
   "mimetype": "text/x-python",
   "name": "python",
   "nbconvert_exporter": "python",
   "pygments_lexer": "ipython3",
   "version": "3.13.5"
  }
 },
 "nbformat": 4,
 "nbformat_minor": 5
}
