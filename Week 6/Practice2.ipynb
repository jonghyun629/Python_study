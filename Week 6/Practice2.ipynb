{
 "cells": [
  {
   "cell_type": "markdown",
   "id": "a3e55af6",
   "metadata": {},
   "source": [
    "# Practice 📝\n",
    "\n",
    "1. Use `map` + `lambda` to double all numbers in `[1, 2, 3, 4]`.\n",
    "2. Use `filter` + `lambda` to keep only numbers greater than `3`.\n",
    "3. Use `reduce` + `lambda` to find the sum of `[10, 20, 30]`.\n",
    "4. Write a lambda that returns `\"Even\"` if a number is even, else `\"Odd\"`.\n",
    "---"
   ]
  },
  {
   "cell_type": "code",
   "execution_count": 2,
   "id": "9bb4fdea",
   "metadata": {},
   "outputs": [
    {
     "name": "stdout",
     "output_type": "stream",
     "text": [
      "[2, 4, 6, 8]\n"
     ]
    }
   ],
   "source": [
    "# 1. map + lambda\n",
    "\n",
    "num = [1,2,3,4]\n",
    "double = list(map(lambda x: x*2, num))\n",
    "\n",
    "print(double)"
   ]
  },
  {
   "cell_type": "code",
   "execution_count": null,
   "id": "25161461",
   "metadata": {},
   "outputs": [
    {
     "name": "stdout",
     "output_type": "stream",
     "text": [
      "[4, 5, 6, 7]\n"
     ]
    }
   ],
   "source": [
    "# 2. filter + lambda\n",
    "\n",
    "num = [1,2,3,4,5,6,7]\n",
    "greater = list(filter(lambda x: x > 3, num))\n",
    "\n",
    "print(greater)"
   ]
  },
  {
   "cell_type": "code",
   "execution_count": 5,
   "id": "91f10e29",
   "metadata": {},
   "outputs": [
    {
     "name": "stdout",
     "output_type": "stream",
     "text": [
      "60\n"
     ]
    }
   ],
   "source": [
    "# 3. reduce + lambda\n",
    "\n",
    "from functools import reduce\n",
    "\n",
    "num = [10, 20, 30]\n",
    "sum = reduce(lambda x, y: x + y, num)\n",
    "\n",
    "print(sum)"
   ]
  },
  {
   "cell_type": "code",
   "execution_count": 8,
   "id": "bc1ca99d",
   "metadata": {},
   "outputs": [
    {
     "name": "stdout",
     "output_type": "stream",
     "text": [
      "Odd\n"
     ]
    }
   ],
   "source": [
    "# 4. Even Odd using lambda\n",
    "\n",
    "num = int(input('Enter a number: '))\n",
    "result = (lambda x: 'Even' if x % 2 == 0 else 'Odd')(num)\n",
    "print(result)\n"
   ]
  },
  {
   "cell_type": "code",
   "execution_count": null,
   "id": "50af8256",
   "metadata": {},
   "outputs": [],
   "source": []
  }
 ],
 "metadata": {
  "colab": {
   "provenance": []
  },
  "kernelspec": {
   "display_name": "base",
   "language": "python",
   "name": "python3"
  },
  "language_info": {
   "codemirror_mode": {
    "name": "ipython",
    "version": 3
   },
   "file_extension": ".py",
   "mimetype": "text/x-python",
   "name": "python",
   "nbconvert_exporter": "python",
   "pygments_lexer": "ipython3",
   "version": "3.13.5"
  }
 },
 "nbformat": 4,
 "nbformat_minor": 5
}
