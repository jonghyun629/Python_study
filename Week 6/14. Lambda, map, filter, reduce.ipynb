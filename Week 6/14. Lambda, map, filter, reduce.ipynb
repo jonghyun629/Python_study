{
 "cells": [
  {
   "cell_type": "markdown",
   "id": "bb430b0d",
   "metadata": {},
   "source": [
    "# 🔹 1. Lambda Functions\n",
    "\n",
    "A **lambda** is an **anonymous function** (no name), used for short, simple operations.\n",
    "\n",
    "### Normal function"
   ]
  },
  {
   "cell_type": "code",
   "execution_count": 1,
   "id": "f0e25e66",
   "metadata": {},
   "outputs": [],
   "source": [
    "def square(x):\n",
    "    return x * x"
   ]
  },
  {
   "cell_type": "markdown",
   "id": "79aefaf5",
   "metadata": {},
   "source": [
    "### Lambda equivalent"
   ]
  },
  {
   "cell_type": "code",
   "execution_count": 2,
   "id": "b18ae284",
   "metadata": {},
   "outputs": [
    {
     "name": "stdout",
     "output_type": "stream",
     "text": [
      "25\n"
     ]
    }
   ],
   "source": [
    "square = lambda x: x * x\n",
    "print(square(5))   # 25"
   ]
  },
  {
   "cell_type": "markdown",
   "id": "3174f3c2",
   "metadata": {},
   "source": [
    "👉 Use `lambda` when you need a quick, one-line function."
   ]
  },
  {
   "cell_type": "markdown",
   "id": "0900da67",
   "metadata": {},
   "source": [
    "---"
   ]
  },
  {
   "cell_type": "markdown",
   "id": "4c570a07",
   "metadata": {},
   "source": [
    "# 🔹 2. `map()`\n",
    "\n",
    "Applies a function to **every item** in an iterable (like a list)."
   ]
  },
  {
   "cell_type": "code",
   "execution_count": 3,
   "id": "a1641682",
   "metadata": {},
   "outputs": [
    {
     "name": "stdout",
     "output_type": "stream",
     "text": [
      "[1, 4, 9, 16]\n"
     ]
    }
   ],
   "source": [
    "nums = [1, 2, 3, 4]\n",
    "\n",
    "squares = list(map(lambda x: x**2, nums))\n",
    "print(squares)   # [1, 4, 9, 16]\n"
   ]
  },
  {
   "cell_type": "markdown",
   "id": "a31f9519",
   "metadata": {},
   "source": [
    "---"
   ]
  },
  {
   "cell_type": "markdown",
   "id": "3547389e",
   "metadata": {},
   "source": [
    "# 🔹 3. `filter()`\n",
    "\n",
    "Keeps only the elements that match a condition."
   ]
  },
  {
   "cell_type": "code",
   "execution_count": 4,
   "id": "efe72fd3",
   "metadata": {},
   "outputs": [
    {
     "name": "stdout",
     "output_type": "stream",
     "text": [
      "[2, 4, 6]\n"
     ]
    }
   ],
   "source": [
    "nums = [1, 2, 3, 4, 5, 6]\n",
    "\n",
    "evens = list(filter(lambda x: x % 2 == 0, nums))\n",
    "print(evens)   # [2, 4, 6]"
   ]
  },
  {
   "cell_type": "markdown",
   "id": "9cad1a13",
   "metadata": {},
   "source": [
    "# 🔹 4. `reduce()`\n",
    "\n",
    "Reduces a list to a **single value** by applying a function repeatedly.\n",
    "\n",
    "(It’s in the `functools` module.)"
   ]
  },
  {
   "cell_type": "code",
   "execution_count": 5,
   "id": "12b24d00",
   "metadata": {},
   "outputs": [
    {
     "name": "stdout",
     "output_type": "stream",
     "text": [
      "24\n"
     ]
    }
   ],
   "source": [
    "from functools import reduce\n",
    "\n",
    "nums = [1, 2, 3, 4]\n",
    "\n",
    "product = reduce(lambda x, y: x * y, nums)\n",
    "print(product)   # 24 (1*2*3*4)"
   ]
  },
  {
   "cell_type": "markdown",
   "id": "6bc28c71",
   "metadata": {},
   "source": [
    "---"
   ]
  },
  {
   "cell_type": "markdown",
   "id": "f8c7e542",
   "metadata": {},
   "source": [
    "# 🔹 5. Quick Summary\n",
    "\n",
    "| Tool | Purpose | Example |\n",
    "| --- | --- | --- |\n",
    "| **lambda** | Small, one-line function | `lambda x: x*2` |\n",
    "| **map** | Transform each element in a list | Square all numbers |\n",
    "| **filter** | Keep only elements matching a condition | Keep even numbers |\n",
    "| **reduce** | Collapse list into single value | Multiply all numbers |"
   ]
  },
  {
   "cell_type": "markdown",
   "id": "be0a9c83",
   "metadata": {},
   "source": [
    "---"
   ]
  },
  {
   "cell_type": "markdown",
   "id": "a3e55af6",
   "metadata": {},
   "source": [
    "# 🔹 6. Practice 📝\n",
    "\n",
    "1. Use `map` + `lambda` to double all numbers in `[1, 2, 3, 4]`.\n",
    "2. Use `filter` + `lambda` to keep only numbers greater than `3`.\n",
    "3. Use `reduce` + `lambda` to find the sum of `[10, 20, 30]`.\n",
    "4. Write a lambda that returns `\"Even\"` if a number is even, else `\"Odd\"`.\n"
   ]
  },
  {
   "cell_type": "markdown",
   "id": "a8827c75",
   "metadata": {},
   "source": [
    "---"
   ]
  }
 ],
 "metadata": {
  "colab": {
   "provenance": []
  },
  "kernelspec": {
   "display_name": "base",
   "language": "python",
   "name": "python3"
  },
  "language_info": {
   "codemirror_mode": {
    "name": "ipython",
    "version": 3
   },
   "file_extension": ".py",
   "mimetype": "text/x-python",
   "name": "python",
   "nbconvert_exporter": "python",
   "pygments_lexer": "ipython3",
   "version": "3.13.5"
  }
 },
 "nbformat": 4,
 "nbformat_minor": 5
}
