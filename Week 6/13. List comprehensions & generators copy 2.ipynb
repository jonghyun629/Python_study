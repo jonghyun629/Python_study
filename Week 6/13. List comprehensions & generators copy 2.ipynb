{
 "cells": [
  {
   "cell_type": "markdown",
   "id": "675b255a",
   "metadata": {},
   "source": [
    "# 🔹 1. List Comprehensions\n",
    "\n",
    "A **list comprehension** is a short way to create lists.\n",
    "\n",
    "Instead of writing a loop, you can do it in one line.\n"
   ]
  },
  {
   "cell_type": "markdown",
   "id": "2fa28e24",
   "metadata": {},
   "source": [
    "### Basic Example"
   ]
  },
  {
   "cell_type": "code",
   "execution_count": 1,
   "id": "97af9473",
   "metadata": {},
   "outputs": [
    {
     "name": "stdout",
     "output_type": "stream",
     "text": [
      "[0, 1, 2, 3, 4]\n"
     ]
    }
   ],
   "source": [
    "numbers = [x for x in range(5)]\n",
    "print(numbers)   # [0, 1, 2, 3, 4]"
   ]
  },
  {
   "cell_type": "markdown",
   "id": "50aa48eb",
   "metadata": {},
   "source": [
    "### With a Condition"
   ]
  },
  {
   "cell_type": "code",
   "execution_count": 2,
   "id": "e6acd970",
   "metadata": {},
   "outputs": [
    {
     "name": "stdout",
     "output_type": "stream",
     "text": [
      "[0, 2, 4, 6, 8]\n"
     ]
    }
   ],
   "source": [
    "evens = [x for x in range(10) if x % 2 == 0]\n",
    "print(evens)   # [0, 2, 4, 6, 8]"
   ]
  },
  {
   "cell_type": "markdown",
   "id": "8fb504c1",
   "metadata": {},
   "source": [
    "### With an Expression"
   ]
  },
  {
   "cell_type": "code",
   "execution_count": 3,
   "id": "56d6d067",
   "metadata": {},
   "outputs": [
    {
     "name": "stdout",
     "output_type": "stream",
     "text": [
      "[0, 1, 4, 9, 16]\n"
     ]
    }
   ],
   "source": [
    "squares = [x**2 for x in range(5)]\n",
    "print(squares)   # [0, 1, 4, 9, 16]"
   ]
  },
  {
   "cell_type": "markdown",
   "id": "0cb1d307",
   "metadata": {},
   "source": [
    "👉 List comprehensions = **compact + readable** way of making lists."
   ]
  },
  {
   "cell_type": "markdown",
   "id": "097f7e4a",
   "metadata": {},
   "source": [
    "---"
   ]
  },
  {
   "cell_type": "markdown",
   "id": "b6d95585",
   "metadata": {},
   "source": [
    "# 🔹 2. Generators"
   ]
  },
  {
   "cell_type": "markdown",
   "id": "c0e7147d",
   "metadata": {},
   "source": [
    "A **generator** is like a list, but it doesn’t store all values in memory.\n",
    "\n",
    "Instead, it produces values **one at a time** (lazy evaluation)."
   ]
  },
  {
   "cell_type": "markdown",
   "id": "1f03b12c",
   "metadata": {},
   "source": [
    "### Generator Function\n",
    "\n",
    "Uses `yield` instead of `return`."
   ]
  },
  {
   "cell_type": "code",
   "execution_count": 4,
   "id": "ab4056f5",
   "metadata": {},
   "outputs": [
    {
     "name": "stdout",
     "output_type": "stream",
     "text": [
      "1\n",
      "2\n",
      "3\n",
      "4\n",
      "5\n"
     ]
    }
   ],
   "source": [
    "def count_up_to(n):\n",
    "    i = 1\n",
    "    while i <= n:\n",
    "        yield i   # returns one value at a time\n",
    "        i += 1\n",
    "\n",
    "for num in count_up_to(5):\n",
    "    print(num)"
   ]
  },
  {
   "cell_type": "markdown",
   "id": "4055de4e",
   "metadata": {},
   "source": [
    "👉 Output:\n",
    "\n",
    "```\n",
    "1\n",
    "2\n",
    "3\n",
    "4\n",
    "5\n",
    "\n",
    "```"
   ]
  },
  {
   "cell_type": "markdown",
   "id": "e816374d",
   "metadata": {},
   "source": [
    "### Generator Expression\n",
    "\n",
    "Similar to list comprehension but with `()` instead of `[]`."
   ]
  },
  {
   "cell_type": "code",
   "execution_count": 5,
   "id": "cd20e2f6",
   "metadata": {},
   "outputs": [
    {
     "name": "stdout",
     "output_type": "stream",
     "text": [
      "<generator object <genexpr> at 0x000002972442F6B0>\n",
      "[0, 1, 4, 9, 16]\n"
     ]
    }
   ],
   "source": [
    "squares = (x**2 for x in range(5))\n",
    "print(squares)       # <generator object ...>\n",
    "print(list(squares)) # [0, 1, 4, 9, 16]"
   ]
  },
  {
   "cell_type": "markdown",
   "id": "5a788ca1",
   "metadata": {},
   "source": [
    "---"
   ]
  },
  {
   "cell_type": "markdown",
   "id": "b2422dd9",
   "metadata": {},
   "source": [
    "# 🔹 3. Key Difference\n",
    "\n",
    "| Feature | List Comprehension | Generator |\n",
    "| --- | --- | --- |\n",
    "| Syntax | `[x for x in ...]` | `(x for x in ...)` |\n",
    "| Stores all values? | ✅ Yes (in memory) | ❌ No (one at a time) |\n",
    "| Memory efficiency | Uses more memory | Very memory efficient |\n",
    "| Example use | Small datasets | Large datasets, streams |"
   ]
  },
  {
   "cell_type": "markdown",
   "id": "3db6da35",
   "metadata": {},
   "source": [
    "---"
   ]
  },
  {
   "cell_type": "markdown",
   "id": "3e9267ae",
   "metadata": {},
   "source": [
    "# 🔹 4. Practice 📝\n",
    "\n",
    "1. Make a list comprehension for **odd numbers from 1–10**.\n",
    "2. Make a list comprehension that converts a list of words into uppercase.\n",
    "    \n",
    "    ```python\n",
    "    words = [\"python\", \"is\", \"fun\"]\n",
    "    \n",
    "    ```\n",
    "    \n",
    "3. Write a generator function that yields numbers divisible by 3 up to 20.\n",
    "4. Use a generator expression to create cubes (`x**3`) for numbers 1–5."
   ]
  },
  {
   "cell_type": "markdown",
   "id": "501dde12",
   "metadata": {},
   "source": [
    "---"
   ]
  },
  {
   "cell_type": "markdown",
   "id": "a8827c75",
   "metadata": {},
   "source": []
  }
 ],
 "metadata": {
  "colab": {
   "provenance": []
  },
  "kernelspec": {
   "display_name": "base",
   "language": "python",
   "name": "python3"
  },
  "language_info": {
   "codemirror_mode": {
    "name": "ipython",
    "version": 3
   },
   "file_extension": ".py",
   "mimetype": "text/x-python",
   "name": "python",
   "nbconvert_exporter": "python",
   "pygments_lexer": "ipython3",
   "version": "3.13.5"
  }
 },
 "nbformat": 4,
 "nbformat_minor": 5
}
