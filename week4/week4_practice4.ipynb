{
 "cells": [
  {
   "cell_type": "markdown",
   "metadata": {
    "id": "UkR4kE66vbOG"
   },
   "source": [
    "# **📝 Practice (Day 4 – File Handling)**\n",
    "\n",
    "1. Write a program that saves 3 lines of text to `notes.txt`, then reads it back and prints it.\n",
    "\n",
    "2. Write a program that creates `grades.csv` with columns `Name, Score` and 3 students. Then read and print each row.\n",
    "\n",
    "3. Save a Python dictionary to a `settings.json` file, then load it back."
   ]
  },
  {
   "cell_type": "code",
   "execution_count": null,
   "metadata": {
    "executionInfo": {
     "elapsed": 9,
     "status": "ok",
     "timestamp": 1756106496261,
     "user": {
      "displayName": "Roy Lee",
      "userId": "06247266214570652069"
     },
     "user_tz": -540
    },
    "id": "L0f7_Hemn0mP"
   },
   "outputs": [
    {
     "name": "stdout",
     "output_type": "stream",
     "text": [
      "Line 1: this is the first line\n",
      "Line 2: this is the second line\n",
      "Line 3: this is third line\n",
      "\n"
     ]
    }
   ],
   "source": [
    "# 1. write a program that saves 3 lines of text to notes.txt, then reads it back and prints it.\n",
    "\n",
    "# writing a file\n",
    "text1 = input('Enter the 1st line: ')\n",
    "text2 = input('Enter the 2nd line: ')\n",
    "text3 = input('Enter the 3rd line: ')\n",
    "\n",
    "with open(\"notes.txt\", \"w\") as file:\n",
    "    file.write(\"Line 1: \" + text1 + \"\\n\")\n",
    "    file.write(\"Line 2: \" + text2 + \"\\n\")\n",
    "    file.write(\"Line 3: \" + text3 + \"\\n\")\n",
    "\n",
    "# reading a file\n",
    "with open(\"notes.txt\", \"r\") as file:\n",
    "    content = file.read()\n",
    "    print(content)"
   ]
  },
  {
   "cell_type": "code",
   "execution_count": null,
   "metadata": {},
   "outputs": [],
   "source": [
    "# 2. Write a program that creates `grades.csv` with columns `Name, Score` and 3 students. Then read and print each row.\n",
    "\n",
    "import csv\n",
    "\n",
    "student1 = input('Enter the name of student 1: ')\n",
    "score1 = input('Enter the score of student 1: ')\n",
    "\n",
    "student2 = input('Enter the name of student 2: ')\n",
    "score2 = input('Enter the score of student 2: ')\n",
    "\n",
    "student3 = input('Enter the name of student 3: ')\n",
    "score3 = input('Enter the score of student 3: ')\n",
    "\n",
    "# Writing CSV\n",
    "with open(\"students.csv\", \"w\", newline=\"\") as f:\n",
    "    writer = csv.writer(f)\n",
    "    writer.writerow([\"Name\", \"Score\"])\n",
    "    writer.writerow([student1, score1])\n",
    "    writer.writerow([student2, score2])\n",
    "    writer.writerow([student3, score3])\n",
    "\n",
    "# Reading CSV\n",
    "with open(\"students.csv\", \"r\") as f:\n",
    "    reader = csv.reader(f)\n",
    "    for row in reader:\n",
    "        print(row)"
   ]
  },
  {
   "cell_type": "code",
   "execution_count": 1,
   "metadata": {},
   "outputs": [
    {
     "name": "stdout",
     "output_type": "stream",
     "text": [
      "{'name': 'Roy', 'age': 25, 'is_student': True}\n"
     ]
    }
   ],
   "source": [
    "# 3. Save a Python dictionary to a `settings.json` file, then load it back.\n",
    "\n",
    "import json\n",
    "\n",
    "data = {\n",
    "    'name':'Roy',\n",
    "    'age':25,\n",
    "    'is_student':True\n",
    "}\n",
    "\n",
    "# save to file\n",
    "with open(\"settings.json\", \"w\") as f:\n",
    "    json.dump(data, f)\n",
    "\n",
    "# load from file\n",
    "with open(\"settings.json\", \"r\") as f:\n",
    "    loaded = json.load(f)\n",
    "\n",
    "print(loaded)"
   ]
  },
  {
   "cell_type": "code",
   "execution_count": null,
   "metadata": {},
   "outputs": [],
   "source": []
  }
 ],
 "metadata": {
  "colab": {
   "provenance": []
  },
  "kernelspec": {
   "display_name": "base",
   "language": "python",
   "name": "python3"
  },
  "language_info": {
   "codemirror_mode": {
    "name": "ipython",
    "version": 3
   },
   "file_extension": ".py",
   "mimetype": "text/x-python",
   "name": "python",
   "nbconvert_exporter": "python",
   "pygments_lexer": "ipython3",
   "version": "3.12.9"
  }
 },
 "nbformat": 4,
 "nbformat_minor": 0
}
