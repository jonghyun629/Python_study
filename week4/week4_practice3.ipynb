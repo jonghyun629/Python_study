{
 "cells": [
  {
   "cell_type": "markdown",
   "metadata": {
    "id": "UkR4kE66vbOG"
   },
   "source": [
    "# **📝 Practice (Day 3 – Modularization)**\n",
    "\n",
    "1. Write a file `string_utils.py` with functions:\n",
    "\n",
    "  - `to_uppercase(text)`\n",
    "\n",
    "  - `to_lowercase(text)`\n",
    "\n",
    "  - `word_count(text)`\n",
    "\n",
    "2. In your main program, import string_utils and test them on:\n",
    "`\"Python is Fun and POWERFUL\"`"
   ]
  },
  {
   "cell_type": "code",
   "execution_count": 1,
   "metadata": {
    "colab": {
     "base_uri": "https://localhost:8080/",
     "height": 385
    },
    "executionInfo": {
     "elapsed": 25,
     "status": "error",
     "timestamp": 1756098854808,
     "user": {
      "displayName": "Roy Lee",
      "userId": "06247266214570652069"
     },
     "user_tz": -540
    },
    "id": "L0f7_Hemn0mP",
    "outputId": "1c7f1568-bfb8-4b9e-a305-334e7880dc0a"
   },
   "outputs": [
    {
     "name": "stdout",
     "output_type": "stream",
     "text": [
      "PYTHON IS FUN AND POWERFUL\n",
      "python is fun and powerful\n",
      "5\n"
     ]
    }
   ],
   "source": [
    "# Import .py\n",
    "import string_utils\n",
    "\n",
    "# Enter a text\n",
    "text = input(\"Enter text: \")\n",
    "\n",
    "print(string_utils.to_uppercase(text))\n",
    "print(string_utils.to_lowercase(text))\n",
    "print(string_utils.word_count(text))"
   ]
  }
 ],
 "metadata": {
  "colab": {
   "provenance": []
  },
  "kernelspec": {
   "display_name": "base",
   "language": "python",
   "name": "python3"
  },
  "language_info": {
   "codemirror_mode": {
    "name": "ipython",
    "version": 3
   },
   "file_extension": ".py",
   "mimetype": "text/x-python",
   "name": "python",
   "nbconvert_exporter": "python",
   "pygments_lexer": "ipython3",
   "version": "3.12.9"
  }
 },
 "nbformat": 4,
 "nbformat_minor": 0
}
