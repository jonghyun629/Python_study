{
 "cells": [
  {
   "cell_type": "markdown",
   "metadata": {
    "id": "lgeDSZmripQa"
   },
   "source": [
    "# 🗓️ Week 4: Functions, Modularization & Files (Intro)\n",
    "\n",
    "This week you’ll learn how to **organize code** so it’s reusable and structured — very important before we dive into data handling later."
   ]
  },
  {
   "cell_type": "markdown",
   "metadata": {
    "id": "LQEH7cx0i03S"
   },
   "source": [
    "\n",
    "\n",
    "---\n",
    "\n"
   ]
  },
  {
   "cell_type": "markdown",
   "metadata": {
    "id": "GeF5Lmtni-_b"
   },
   "source": [
    "## 🔑 Day 1: Functions (Basics)"
   ]
  },
  {
   "cell_type": "markdown",
   "metadata": {
    "id": "KRqLT2BOjBGS"
   },
   "source": [
    "1. **Defining & Calling Functions**\n"
   ]
  },
  {
   "cell_type": "code",
   "execution_count": null,
   "metadata": {},
   "outputs": [],
   "source": [
    "def greet():\n",
    "    print(\"Hello, world!\")\n",
    "\n",
    "greet()"
   ]
  },
  {
   "cell_type": "markdown",
   "metadata": {
    "id": "P5C_9ALWjZb8"
   },
   "source": [
    "2. **Parameters & Arguments**\n",
    "\n"
   ]
  },
  {
   "cell_type": "code",
   "execution_count": 1,
   "metadata": {},
   "outputs": [
    {
     "name": "stdout",
     "output_type": "stream",
     "text": [
      "Hello, Roy!\n"
     ]
    }
   ],
   "source": [
    "def greet(name):\n",
    "    print(f\"Hello, {name}!\")\n",
    "\n",
    "greet(\"Roy\")\n"
   ]
  },
  {
   "cell_type": "markdown",
   "metadata": {
    "id": "Kh4iEoDejguo"
   },
   "source": [
    "3. **Return Values**\n"
   ]
  },
  {
   "cell_type": "code",
   "execution_count": 4,
   "metadata": {},
   "outputs": [
    {
     "name": "stdout",
     "output_type": "stream",
     "text": [
      "8\n"
     ]
    }
   ],
   "source": [
    "\n",
    "def add(a, b):\n",
    "    return a + b\n",
    "\n",
    "result = add(5, 3)\n",
    "print(result)  # 8"
   ]
  },
  {
   "cell_type": "markdown",
   "metadata": {
    "id": "dSDnt154jxSB"
   },
   "source": [
    "4. **Default Parameters**\n",
    "\n",
    "\n"
   ]
  },
  {
   "cell_type": "code",
   "execution_count": 5,
   "metadata": {},
   "outputs": [
    {
     "name": "stdout",
     "output_type": "stream",
     "text": [
      "Hello, Guest!\n",
      "Hello, Ezer!\n"
     ]
    }
   ],
   "source": [
    "def greet(name=\"Guest\"):\n",
    "    print(f\"Hello, {name}!\")\n",
    "\n",
    "greet()        # Hello, Guest!\n",
    "greet(\"Ezer\")  # Hello, Ezer!\n"
   ]
  },
  {
   "cell_type": "markdown",
   "metadata": {
    "id": "V7H9Rmnbd9GP"
   },
   "source": [
    "5. **Multiple Returns**\n",
    "\n",
    "\n"
   ]
  },
  {
   "cell_type": "code",
   "execution_count": 6,
   "metadata": {},
   "outputs": [
    {
     "name": "stdout",
     "output_type": "stream",
     "text": [
      "(10, 30, 20.0)\n"
     ]
    }
   ],
   "source": [
    "def stats(numbers):\n",
    "    return min(numbers), max(numbers), sum(numbers)/len(numbers)\n",
    "\n",
    "print(stats([10, 20, 30]))\n",
    "# (10, 30, 20.0)"
   ]
  },
  {
   "cell_type": "markdown",
   "metadata": {
    "id": "O9TWZtKAkOaP"
   },
   "source": [
    "\n",
    "\n",
    "---\n",
    "\n"
   ]
  },
  {
   "cell_type": "markdown",
   "metadata": {
    "id": "cnzBvQlPAYzr"
   },
   "source": [
    "## 🔑 Day 2: Function Scope & Return Values!\n",
    "\n",
    "**This day is all about understanding how variables work inside and outside of functions and returning values properly.**"
   ]
  },
  {
   "cell_type": "markdown",
   "metadata": {
    "id": "VnVD9PBuiFyc"
   },
   "source": [
    "\n",
    "\n",
    "---\n",
    "\n"
   ]
  },
  {
   "cell_type": "markdown",
   "metadata": {
    "id": "9m95JDeLAeEu"
   },
   "source": [
    "## 📝 Key Concepts\n",
    "\n",
    "1. **Local vs Global Variables**\n",
    "  - A variable inside a function is local (it exists only inside).\n",
    "  - A variable outside is global (accessible everywhere).\n",
    "  - If both exist with the same name, Python uses the local one inside the function.\n",
    "\n",
    "2. **Return Values**\n",
    "- Functions can `return` results instead of just printing them.\n",
    "- This lets you use the result later."
   ]
  },
  {
   "cell_type": "markdown",
   "metadata": {
    "id": "SSb9icb2ii2F"
   },
   "source": [
    "### **✅ Examples**"
   ]
  },
  {
   "cell_type": "markdown",
   "metadata": {
    "id": "MifK9zgOiq2d"
   },
   "source": [
    "1. Local vs Global\n",
    "\n",
    "\n"
   ]
  },
  {
   "cell_type": "code",
   "execution_count": 7,
   "metadata": {},
   "outputs": [
    {
     "name": "stdout",
     "output_type": "stream",
     "text": [
      "Inside function: 5\n",
      "Outside function: 10\n"
     ]
    }
   ],
   "source": [
    "x = 10  # global variable\n",
    "\n",
    "def my_func():\n",
    "    x = 5  # local variable\n",
    "    print(\"Inside function:\", x)\n",
    "\n",
    "my_func()\n",
    "print(\"Outside function:\", x)"
   ]
  },
  {
   "cell_type": "markdown",
   "metadata": {
    "id": "ExOJI_ZIixbC"
   },
   "source": [
    "2. Returning Values\n",
    "\n",
    "\n",
    "\n"
   ]
  },
  {
   "cell_type": "code",
   "execution_count": 8,
   "metadata": {},
   "outputs": [
    {
     "name": "stdout",
     "output_type": "stream",
     "text": [
      "The sum is: 7\n"
     ]
    }
   ],
   "source": [
    "def add(a, b):\n",
    "    return a + b\n",
    "\n",
    "result = add(3, 4)\n",
    "print(\"The sum is:\", result)"
   ]
  },
  {
   "cell_type": "markdown",
   "metadata": {
    "id": "ocLDHiyni1-8"
   },
   "source": [
    "3. Returning Multiple Values\n",
    "\n",
    "\n"
   ]
  },
  {
   "cell_type": "code",
   "execution_count": 9,
   "metadata": {},
   "outputs": [
    {
     "name": "stdout",
     "output_type": "stream",
     "text": [
      "8 2 15\n"
     ]
    }
   ],
   "source": [
    "def calculate(a, b):\n",
    "    return a + b, a - b, a * b\n",
    "\n",
    "add_result, sub_result, mul_result = calculate(5, 3)\n",
    "print(add_result, sub_result, mul_result)"
   ]
  },
  {
   "cell_type": "markdown",
   "metadata": {
    "id": "bIQ9mmFIjEEt"
   },
   "source": [
    "\n",
    "\n",
    "---\n",
    "\n"
   ]
  },
  {
   "cell_type": "markdown",
   "metadata": {
    "id": "-00xowablv2D"
   },
   "source": [
    "# 🔑 **Day 3: Why Modularization Matters**\n",
    "\n",
    "- **Without functions:** Your code gets long and repetitive.\n",
    "\n",
    "- **With functions:** You can break down tasks into smaller pieces.\n",
    "\n",
    "- **With modules:** You can split code into separate files and reuse them in multiple projects."
   ]
  },
  {
   "cell_type": "markdown",
   "metadata": {
    "id": "jTNQydXGmDaN"
   },
   "source": [
    "\n",
    "\n",
    "---\n",
    "\n"
   ]
  },
  {
   "cell_type": "code",
   "execution_count": null,
   "metadata": {
    "id": "2mxD4A-kmD66"
   },
   "outputs": [],
   "source": [
    "# ✅ Example 1: Without Functions\n",
    "a = int(input(\"Enter number 1: \"))\n",
    "b = int(input(\"Enter number 2: \"))\n",
    "print(\"Sum:\", a+b)\n",
    "\n",
    "x = int(input(\"Enter number 1: \"))\n",
    "y = int(input(\"Enter number 2: \"))\n",
    "print(\"Product:\", x*y)\n"
   ]
  },
  {
   "cell_type": "code",
   "execution_count": null,
   "metadata": {
    "id": "9Yxf2YpNmOwT"
   },
   "outputs": [],
   "source": [
    "\n",
    "# ✅ Example 2: With Functions\n",
    "def add(a, b):\n",
    "    return a + b\n",
    "\n",
    "def multiply(a, b):\n",
    "    return a * b\n",
    "\n",
    "# Main program\n",
    "a = int(input(\"Enter number 1: \"))\n",
    "b = int(input(\"Enter number 2: \"))\n",
    "print(\"Sum:\", add(a, b))\n",
    "print(\"Product:\", multiply(a, b))"
   ]
  },
  {
   "cell_type": "code",
   "execution_count": null,
   "metadata": {
    "id": "4xXEVM0NmUT4"
   },
   "outputs": [
    {
     "ename": "ModuleNotFoundError",
     "evalue": "No module named 'math_utils'",
     "output_type": "error",
     "traceback": [
      "\u001b[1;31m---------------------------------------------------------------------------\u001b[0m",
      "\u001b[1;31mModuleNotFoundError\u001b[0m                       Traceback (most recent call last)",
      "Cell \u001b[1;32mIn[10], line 22\u001b[0m\n\u001b[0;32m     17\u001b[0m     \u001b[38;5;28;01mreturn\u001b[39;00m a \u001b[38;5;241m/\u001b[39m b\n\u001b[0;32m     20\u001b[0m \u001b[38;5;66;03m# Now in your main program:\u001b[39;00m\n\u001b[1;32m---> 22\u001b[0m \u001b[38;5;28;01mimport\u001b[39;00m\u001b[38;5;250m \u001b[39m\u001b[38;5;21;01mmath_utils\u001b[39;00m\n\u001b[0;32m     24\u001b[0m \u001b[38;5;28mprint\u001b[39m(math_utils\u001b[38;5;241m.\u001b[39madd(\u001b[38;5;241m10\u001b[39m, \u001b[38;5;241m5\u001b[39m))\n\u001b[0;32m     25\u001b[0m \u001b[38;5;28mprint\u001b[39m(math_utils\u001b[38;5;241m.\u001b[39mmultiply(\u001b[38;5;241m4\u001b[39m, \u001b[38;5;241m3\u001b[39m))\n",
      "\u001b[1;31mModuleNotFoundError\u001b[0m: No module named 'math_utils'"
     ]
    }
   ],
   "source": [
    "# ✅ Example 3: With a Module (separate file)\n",
    "\n",
    "# Create a file called math_utils.py\n",
    "def add(a, b):\n",
    "    return a + b\n",
    "\n",
    "def subtract(a, b):\n",
    "    return a - b\n",
    "\n",
    "def multiply(a, b):\n",
    "    return a * b\n",
    "\n",
    "def divide(a, b):\n",
    "    if b == 0:\n",
    "        return \"Error: divide by zero\"\n",
    "    return a / b\n",
    "\n",
    "\n",
    "# Now in your main program:\n",
    "import math_utils\n",
    "\n",
    "print(math_utils.add(10, 5))\n",
    "print(math_utils.multiply(4, 3))\n"
   ]
  },
  {
   "cell_type": "markdown",
   "metadata": {
    "id": "BBVOm2zFq7A0"
   },
   "source": [
    "\n",
    "\n",
    "---\n",
    "\n"
   ]
  },
  {
   "cell_type": "markdown",
   "metadata": {
    "id": "2kH2pCcemagk"
   },
   "source": [
    "# **🔑 Day 4: File Handling Basics**"
   ]
  },
  {
   "cell_type": "markdown",
   "metadata": {
    "id": "qWdHcFLWq7Tz"
   },
   "source": [
    "### 1. Writing to a File"
   ]
  },
  {
   "cell_type": "code",
   "execution_count": null,
   "metadata": {},
   "outputs": [],
   "source": [
    "with open(\"example.txt\", \"w\") as f:\n",
    "    f.write(\"Hello, Python!\\n\")\n",
    "    f.write(\"File handling is fun.\")\n"
   ]
  },
  {
   "cell_type": "markdown",
   "metadata": {},
   "source": [
    "\n",
    "- `\"w\"` → write mode (overwrites the file if it exists).\n",
    "\n",
    "- `with` → automatically closes the file."
   ]
  },
  {
   "cell_type": "markdown",
   "metadata": {
    "id": "F8WNd1oGrSTV"
   },
   "source": [
    "\n",
    "\n",
    "---\n",
    "\n"
   ]
  },
  {
   "cell_type": "markdown",
   "metadata": {
    "id": "tjBBuGBfrT2X"
   },
   "source": [
    "### 2. Reading a File\n",
    "\n"
   ]
  },
  {
   "cell_type": "code",
   "execution_count": null,
   "metadata": {},
   "outputs": [],
   "source": [
    "with open(\"example.txt\", \"r\") as f:\n",
    "    content = f.read()\n",
    "print(content)"
   ]
  },
  {
   "cell_type": "markdown",
   "metadata": {
    "id": "lGwzsdV_rb4A"
   },
   "source": [
    "\n",
    "\n",
    "---\n",
    "\n"
   ]
  },
  {
   "cell_type": "markdown",
   "metadata": {
    "id": "LrTq4RmFrnBc"
   },
   "source": [
    "### 3. Appending to a File\n"
   ]
  },
  {
   "cell_type": "code",
   "execution_count": null,
   "metadata": {},
   "outputs": [],
   "source": [
    "\n",
    "with open(\"example.txt\", \"a\") as f:\n",
    "    f.write(\"\\nThis line is added later.\")"
   ]
  },
  {
   "cell_type": "markdown",
   "metadata": {},
   "source": [
    "`\"a\"` → append mode (doesn’t overwrite, adds new content)."
   ]
  },
  {
   "cell_type": "markdown",
   "metadata": {
    "id": "cy3oOMxart3f"
   },
   "source": [
    "\n",
    "\n",
    "---\n",
    "\n"
   ]
  },
  {
   "cell_type": "markdown",
   "metadata": {
    "id": "CVNrEkzMrvM1"
   },
   "source": [
    "### 4. Reading Line by Line"
   ]
  },
  {
   "cell_type": "code",
   "execution_count": null,
   "metadata": {},
   "outputs": [],
   "source": [
    "\n",
    "with open(\"example.txt\", \"r\") as f:\n",
    "    for line in f:\n",
    "        print(line.strip())"
   ]
  },
  {
   "cell_type": "markdown",
   "metadata": {
    "id": "IEsAeRcir2OH"
   },
   "source": [
    "\n",
    "\n",
    "---\n",
    "\n"
   ]
  },
  {
   "cell_type": "markdown",
   "metadata": {
    "id": "yfKzA3lkr82O"
   },
   "source": [
    "### 5. Working with CSV (comma-separated values)\n",
    "\n",
    "👉 Great for storing tables of data.\n"
   ]
  },
  {
   "cell_type": "code",
   "execution_count": null,
   "metadata": {},
   "outputs": [],
   "source": [
    "import csv\n",
    "\n",
    "# Writing CSV\n",
    "with open(\"students.csv\", \"w\", newline=\"\") as f:\n",
    "    writer = csv.writer(f)\n",
    "    writer.writerow([\"Name\", \"Score\"])\n",
    "    writer.writerow([\"Alice\", 85])\n",
    "    writer.writerow([\"Bob\", 90])\n",
    "\n",
    "# Reading CSV\n",
    "with open(\"students.csv\", \"r\") as f:\n",
    "    reader = csv.reader(f)\n",
    "    for row in reader:\n",
    "        print(row)"
   ]
  },
  {
   "cell_type": "markdown",
   "metadata": {
    "id": "4-rL4Em-surf"
   },
   "source": [
    "\n",
    "\n",
    "---\n",
    "\n"
   ]
  },
  {
   "cell_type": "markdown",
   "metadata": {
    "id": "yat0bV_esv49"
   },
   "source": [
    "### 6. JSON (great for dictionaries & APIs)\n",
    "\n"
   ]
  },
  {
   "cell_type": "code",
   "execution_count": null,
   "metadata": {},
   "outputs": [],
   "source": [
    "import json\n",
    "\n",
    "data = {\"name\": \"Roy\", \"age\": 25, \"is_student\": True}\n",
    "\n",
    "# Save to file\n",
    "with open(\"data.json\", \"w\") as f:\n",
    "    json.dump(data, f)\n",
    "\n",
    "# Load from file\n",
    "with open(\"data.json\", \"r\") as f:\n",
    "    loaded = json.load(f)\n",
    "\n",
    "print(loaded)"
   ]
  },
  {
   "cell_type": "markdown",
   "metadata": {
    "id": "5O-WCAOlswdM"
   },
   "source": [
    "\n",
    "\n",
    "---\n",
    "\n"
   ]
  }
 ],
 "metadata": {
  "colab": {
   "provenance": []
  },
  "kernelspec": {
   "display_name": "base",
   "language": "python",
   "name": "python3"
  },
  "language_info": {
   "codemirror_mode": {
    "name": "ipython",
    "version": 3
   },
   "file_extension": ".py",
   "mimetype": "text/x-python",
   "name": "python",
   "nbconvert_exporter": "python",
   "pygments_lexer": "ipython3",
   "version": "3.12.9"
  }
 },
 "nbformat": 4,
 "nbformat_minor": 0
}
