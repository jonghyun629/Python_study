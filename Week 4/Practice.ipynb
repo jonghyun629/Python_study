{
 "cells": [
  {
   "cell_type": "markdown",
   "id": "af136993",
   "metadata": {},
   "source": [
    "### ⚽ Goal:\n",
    "\n",
    "- [ ]  Build a To-Do list app (add/remove tasks)\n",
    "- [ ]  Write a function that checks if a word is a palindrome"
   ]
  },
  {
   "cell_type": "code",
   "execution_count": null,
   "id": "a9a5df53",
   "metadata": {},
   "outputs": [],
   "source": [
    "# 1. Build a To-Do list application in python\n",
    "\n",
    "todo_list = []\n",
    "\n",
    "def add_task(task):\n",
    "    todo_list.append(task)\n",
    "\n",
    "def remove_task(task):\n",
    "    todo_list.remove(task)\n",
    "\n",
    "def view_tasks():\n",
    "    for task in todo_list:\n",
    "        print(f\"- {task}\")\n"
   ]
  },
  {
   "cell_type": "code",
   "execution_count": 1,
   "id": "757cb4a2",
   "metadata": {},
   "outputs": [
    {
     "name": "stdout",
     "output_type": "stream",
     "text": [
      "cake is not a palindrome\n"
     ]
    }
   ],
   "source": [
    "# 2. check if a word is a palindrome\n",
    "\n",
    "# input the word\n",
    "word = input('Enter a word: ')\n",
    "\n",
    "if word == word[::-1]:\n",
    "    print(f'{word} is a palindrome')\n",
    "else:\n",
    "    print(f'{word} is not a palindrome')\n"
   ]
  },
  {
   "cell_type": "code",
   "execution_count": null,
   "id": "cbff7d98",
   "metadata": {},
   "outputs": [],
   "source": []
  }
 ],
 "metadata": {
  "kernelspec": {
   "display_name": "base",
   "language": "python",
   "name": "python3"
  },
  "language_info": {
   "codemirror_mode": {
    "name": "ipython",
    "version": 3
   },
   "file_extension": ".py",
   "mimetype": "text/x-python",
   "name": "python",
   "nbconvert_exporter": "python",
   "pygments_lexer": "ipython3",
   "version": "3.13.5"
  }
 },
 "nbformat": 4,
 "nbformat_minor": 5
}
