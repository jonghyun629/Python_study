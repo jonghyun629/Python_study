{
 "cells": [
  {
   "cell_type": "markdown",
   "id": "71fe5c48",
   "metadata": {},
   "source": [
    "# 🔹 1. What is a Function?\n",
    "\n",
    "A **function** is a block of reusable code that does something when you call it.\n",
    "\n",
    "You define a function with `def`."
   ]
  },
  {
   "cell_type": "code",
   "execution_count": 1,
   "id": "6341d7d2",
   "metadata": {},
   "outputs": [
    {
     "name": "stdout",
     "output_type": "stream",
     "text": [
      "Hello, world!\n"
     ]
    }
   ],
   "source": [
    "def greet():\n",
    "    print(\"Hello, world!\")\n",
    "\n",
    "greet()   # calling the function"
   ]
  },
  {
   "cell_type": "markdown",
   "id": "1d8359d7",
   "metadata": {},
   "source": [
    "---"
   ]
  },
  {
   "cell_type": "markdown",
   "id": "2148dcaf",
   "metadata": {},
   "source": [
    "# 🔹 2. Parameters (Inputs)\n",
    "\n",
    "A **parameter** is like a variable you pass into a function.\n",
    "\n",
    "When calling the function, you give it a **value** (called an *argument*).\n"
   ]
  },
  {
   "cell_type": "code",
   "execution_count": 2,
   "id": "81b1d843",
   "metadata": {},
   "outputs": [
    {
     "name": "stdout",
     "output_type": "stream",
     "text": [
      "Hello, Alice!\n",
      "Hello, Bob!\n"
     ]
    }
   ],
   "source": [
    "def greet(name):   # parameter\n",
    "    print(f\"Hello, {name}!\")\n",
    "\n",
    "greet(\"Alice\")     # argument\n",
    "greet(\"Bob\")"
   ]
  },
  {
   "cell_type": "markdown",
   "id": "c6a392b6",
   "metadata": {},
   "source": [
    "👉 Output:\n",
    "\n",
    "```\n",
    "Hello, Alice!\n",
    "Hello, Bob!\n",
    "\n",
    "```"
   ]
  },
  {
   "cell_type": "markdown",
   "id": "42572276",
   "metadata": {},
   "source": [
    "You can have multiple parameters:"
   ]
  },
  {
   "cell_type": "code",
   "execution_count": 3,
   "id": "ca59d71f",
   "metadata": {},
   "outputs": [
    {
     "name": "stdout",
     "output_type": "stream",
     "text": [
      "8\n"
     ]
    }
   ],
   "source": [
    "def add(x, y):\n",
    "    print(x + y)\n",
    "\n",
    "add(5, 3)   # 8"
   ]
  },
  {
   "cell_type": "markdown",
   "id": "d96c2433",
   "metadata": {},
   "source": [
    "---"
   ]
  },
  {
   "cell_type": "markdown",
   "id": "f0c458f6",
   "metadata": {},
   "source": [
    "# 🔹 3. Return Values\n",
    "\n",
    "Instead of just printing, functions can **return** a result to be used later.\n"
   ]
  },
  {
   "cell_type": "code",
   "execution_count": 4,
   "id": "6e86897a",
   "metadata": {},
   "outputs": [
    {
     "name": "stdout",
     "output_type": "stream",
     "text": [
      "8\n"
     ]
    }
   ],
   "source": [
    "def add(x, y):\n",
    "    return x + y\n",
    "\n",
    "result = add(5, 3)\n",
    "print(result)   # 8"
   ]
  },
  {
   "cell_type": "markdown",
   "id": "a90b909c",
   "metadata": {},
   "source": [
    "👉 `return` sends data back to the caller. Without `return`, the function gives back `None`."
   ]
  },
  {
   "cell_type": "markdown",
   "id": "f3f5e12c",
   "metadata": {},
   "source": [
    "---"
   ]
  },
  {
   "cell_type": "markdown",
   "id": "abafe831",
   "metadata": {},
   "source": [
    "# 🔹 4. Scope (Where Variables Live)\n",
    "\n",
    "- **Local scope** → variables created *inside* a function only exist there.\n",
    "- **Global scope** → variables created *outside* functions can be used anywhere."
   ]
  },
  {
   "cell_type": "code",
   "execution_count": 5,
   "id": "093c7b3c",
   "metadata": {},
   "outputs": [
    {
     "name": "stdout",
     "output_type": "stream",
     "text": [
      "10\n",
      "5\n",
      "10\n"
     ]
    }
   ],
   "source": [
    "x = 10   # global variable\n",
    "\n",
    "def my_func():\n",
    "    y = 5   # local variable\n",
    "    print(x)   # can access global\n",
    "    print(y)   # can access local\n",
    "\n",
    "my_func()\n",
    "print(x)   # works\n",
    "# print(y)  ❌ error (y only exists inside function)\n"
   ]
  },
  {
   "cell_type": "markdown",
   "id": "c706e204",
   "metadata": {},
   "source": [
    "⚠️ If you want to modify a global variable inside a function, use `global` keyword:"
   ]
  },
  {
   "cell_type": "code",
   "execution_count": 6,
   "id": "6220a91f",
   "metadata": {},
   "outputs": [
    {
     "name": "stdout",
     "output_type": "stream",
     "text": [
      "1\n"
     ]
    }
   ],
   "source": [
    "count = 0\n",
    "\n",
    "def increase():\n",
    "    global count\n",
    "    count += 1\n",
    "\n",
    "increase()\n",
    "print(count)  # 1"
   ]
  },
  {
   "cell_type": "markdown",
   "id": "81759cdb",
   "metadata": {},
   "source": [
    "---"
   ]
  },
  {
   "cell_type": "markdown",
   "id": "47fc19b6",
   "metadata": {},
   "source": [
    "# 🔹 Quick Summary\n",
    "\n",
    "- **Function** = reusable block of code (`def`).\n",
    "- **Parameters** = inputs a function takes.\n",
    "- **Return** = output a function gives back.\n",
    "- **Scope** = where a variable can be accessed (local vs global)."
   ]
  },
  {
   "cell_type": "markdown",
   "id": "bd475ea6",
   "metadata": {},
   "source": [
    "---"
   ]
  },
  {
   "cell_type": "markdown",
   "id": "a3e55af6",
   "metadata": {},
   "source": [
    "# 🔹 Practice 📝\n",
    "\n",
    "1. Write a function `square(num)` that returns the square of a number.\n",
    "2. Write a function `greet_user(name, age)` that prints `\"Hello Alice, you are 20 years old.\"` using f-strings.\n",
    "3. Write a function `is_even(num)` that returns `True` if the number is even, else `False`.\n",
    "\n"
   ]
  },
  {
   "cell_type": "markdown",
   "id": "26ea3bb4",
   "metadata": {},
   "source": [
    "---"
   ]
  }
 ],
 "metadata": {
  "colab": {
   "provenance": []
  },
  "kernelspec": {
   "display_name": "base",
   "language": "python",
   "name": "python3"
  },
  "language_info": {
   "codemirror_mode": {
    "name": "ipython",
    "version": 3
   },
   "file_extension": ".py",
   "mimetype": "text/x-python",
   "name": "python",
   "nbconvert_exporter": "python",
   "pygments_lexer": "ipython3",
   "version": "3.13.5"
  }
 },
 "nbformat": 4,
 "nbformat_minor": 5
}
