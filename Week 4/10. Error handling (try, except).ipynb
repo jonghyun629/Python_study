{
 "cells": [
  {
   "cell_type": "markdown",
   "id": "307cf193",
   "metadata": {},
   "source": [
    "# 🔹 1. The Problem Without Handling\n",
    "\n",
    "If you divide by zero or convert wrong input, Python raises an **exception** and crashes:\n"
   ]
  },
  {
   "cell_type": "code",
   "execution_count": 1,
   "id": "54e3b6ac",
   "metadata": {},
   "outputs": [
    {
     "ename": "ValueError",
     "evalue": "invalid literal for int() with base 10: 'hello'",
     "output_type": "error",
     "traceback": [
      "\u001b[1;31m---------------------------------------------------------------------------\u001b[0m",
      "\u001b[1;31mValueError\u001b[0m                                Traceback (most recent call last)",
      "Cell \u001b[1;32mIn[1], line 1\u001b[0m\n\u001b[1;32m----> 1\u001b[0m x \u001b[38;5;241m=\u001b[39m \u001b[38;5;28mint\u001b[39m(\u001b[38;5;124m\"\u001b[39m\u001b[38;5;124mhello\u001b[39m\u001b[38;5;124m\"\u001b[39m)   \u001b[38;5;66;03m# ❌ ValueError\u001b[39;00m\n\u001b[0;32m      2\u001b[0m \u001b[38;5;28mprint\u001b[39m(\u001b[38;5;241m10\u001b[39m \u001b[38;5;241m/\u001b[39m \u001b[38;5;241m0\u001b[39m)\n",
      "\u001b[1;31mValueError\u001b[0m: invalid literal for int() with base 10: 'hello'"
     ]
    }
   ],
   "source": [
    "x = int(\"hello\")   # ❌ ValueError\n",
    "print(10 / 0)      # ❌ ZeroDivisionError"
   ]
  },
  {
   "cell_type": "markdown",
   "id": "b89f2a67",
   "metadata": {},
   "source": [
    "---"
   ]
  },
  {
   "cell_type": "markdown",
   "id": "c54f3bdf",
   "metadata": {},
   "source": [
    "# 🔹 2. Basic `try / except`\n",
    "\n",
    "You can **catch errors** and handle them gracefully."
   ]
  },
  {
   "cell_type": "code",
   "execution_count": null,
   "id": "bddf225f",
   "metadata": {},
   "outputs": [],
   "source": [
    "try:\n",
    "    x = int(input(\"Enter a number: \"))\n",
    "    print(10 / x)\n",
    "except:\n",
    "    print(\"Something went wrong!\")"
   ]
  },
  {
   "cell_type": "markdown",
   "id": "157c9999",
   "metadata": {},
   "source": [
    "👉 If user enters `0` → prints `\"Something went wrong!\"` instead of crashing."
   ]
  },
  {
   "cell_type": "markdown",
   "id": "f80df6d1",
   "metadata": {},
   "source": [
    "---"
   ]
  },
  {
   "cell_type": "markdown",
   "id": "f02e6e5d",
   "metadata": {},
   "source": [
    "# 🔹 3. Catch Specific Exceptions\n",
    "\n",
    "Better practice: catch **specific** errors."
   ]
  },
  {
   "cell_type": "code",
   "execution_count": 2,
   "id": "a44840f9",
   "metadata": {},
   "outputs": [
    {
     "name": "stdout",
     "output_type": "stream",
     "text": [
      "That was not a valid number.\n"
     ]
    }
   ],
   "source": [
    "try:\n",
    "    num = int(input(\"Enter a number: \"))\n",
    "    result = 10 / num\n",
    "    print(result)\n",
    "except ValueError:\n",
    "    print(\"That was not a valid number.\")\n",
    "except ZeroDivisionError:\n",
    "    print(\"You cannot divide by zero.\")"
   ]
  },
  {
   "cell_type": "markdown",
   "id": "c47e1487",
   "metadata": {},
   "source": [
    "---"
   ]
  },
  {
   "cell_type": "markdown",
   "id": "01627b56",
   "metadata": {},
   "source": [
    "# 🔹 4. `else` with try/except\n",
    "\n",
    "`else` runs **only if no error happens**."
   ]
  },
  {
   "cell_type": "code",
   "execution_count": 3,
   "id": "0f71e85a",
   "metadata": {},
   "outputs": [
    {
     "name": "stdout",
     "output_type": "stream",
     "text": [
      "Invalid number!\n"
     ]
    }
   ],
   "source": [
    "try:\n",
    "    x = int(input(\"Enter a number: \"))\n",
    "    print(\"You entered:\", x)\n",
    "except ValueError:\n",
    "    print(\"Invalid number!\")\n",
    "else:\n",
    "    print(\"No errors occurred.\")"
   ]
  },
  {
   "cell_type": "markdown",
   "id": "1bd1b1fb",
   "metadata": {},
   "source": [
    "---"
   ]
  },
  {
   "cell_type": "markdown",
   "id": "6e34170c",
   "metadata": {},
   "source": [
    "# 🔹 5. `finally`\n",
    "\n",
    "`finally` runs **always**, whether an error occurred or not.\n",
    "\n",
    "Good for cleanup (like closing a file)."
   ]
  },
  {
   "cell_type": "code",
   "execution_count": 4,
   "id": "f3c4a686",
   "metadata": {},
   "outputs": [
    {
     "name": "stdout",
     "output_type": "stream",
     "text": [
      "File not found.\n",
      "Closing program.\n"
     ]
    }
   ],
   "source": [
    "try:\n",
    "    f = open(\"data.txt\")\n",
    "    # do something\n",
    "except FileNotFoundError:\n",
    "    print(\"File not found.\")\n",
    "finally:\n",
    "    print(\"Closing program.\")"
   ]
  },
  {
   "cell_type": "markdown",
   "id": "294698f8",
   "metadata": {},
   "source": [
    "---"
   ]
  },
  {
   "cell_type": "markdown",
   "id": "27a6c636",
   "metadata": {},
   "source": [
    "# 🔹 Quick Summary\n",
    "\n",
    "- **try** → code that may cause error\n",
    "- **except** → handles the error\n",
    "- **else** → runs if no error\n",
    "- **finally** → runs no matter what"
   ]
  },
  {
   "cell_type": "markdown",
   "id": "b57dcc8e",
   "metadata": {},
   "source": [
    "---"
   ]
  },
  {
   "cell_type": "markdown",
   "id": "a3e55af6",
   "metadata": {},
   "source": [
    "# 🔹 Practice 📝\n",
    "\n",
    "1. Ask the user for two numbers and divide them. Handle:\n",
    "    - `ValueError` if input is not a number\n",
    "    - `ZeroDivisionError` if dividing by 0\n",
    "2. Write a program that tries to open `\"test.txt\"`. If missing, print `\"File not found\"`, but always print `\"Done\"` at the end.\n",
    "\n"
   ]
  },
  {
   "cell_type": "markdown",
   "id": "a8827c75",
   "metadata": {},
   "source": [
    "---"
   ]
  },
  {
   "cell_type": "markdown",
   "id": "2fa241d8",
   "metadata": {},
   "source": []
  }
 ],
 "metadata": {
  "colab": {
   "provenance": []
  },
  "kernelspec": {
   "display_name": "base",
   "language": "python",
   "name": "python3"
  },
  "language_info": {
   "codemirror_mode": {
    "name": "ipython",
    "version": 3
   },
   "file_extension": ".py",
   "mimetype": "text/x-python",
   "name": "python",
   "nbconvert_exporter": "python",
   "pygments_lexer": "ipython3",
   "version": "3.13.5"
  }
 },
 "nbformat": 4,
 "nbformat_minor": 5
}
