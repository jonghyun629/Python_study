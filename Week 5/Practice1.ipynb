{
 "cells": [
  {
   "cell_type": "markdown",
   "id": "af136993",
   "metadata": {
    "id": "af136993"
   },
   "source": [
    "# 🔹 Practice 📝\n",
    "\n",
    "1. Create a file `greet.py` with a function `say_hello(name)` that prints `\"Hello, {name}\"`.\n",
    "2. Import it into another Python file and call it.\n",
    "3. Use the built-in `random` module to simulate rolling a dice (1–6).\n",
    "\n",
    "---"
   ]
  },
  {
   "cell_type": "code",
   "execution_count": 1,
   "id": "a9a5df53",
   "metadata": {
    "id": "a9a5df53"
   },
   "outputs": [
    {
     "name": "stdout",
     "output_type": "stream",
     "text": [
      "Hello, Alice\n"
     ]
    }
   ],
   "source": [
    "# 1. Create a file greet.py with a function say_hello(name) that prints \"Hello, {name}\".\n",
    "\n",
    "import greet\n",
    "\n",
    "greet.say_hello(\"Alice\")"
   ]
  },
  {
   "cell_type": "code",
   "execution_count": 1,
   "id": "757cb4a2",
   "metadata": {
    "id": "757cb4a2",
    "outputId": "7b90e3eb-2abe-46a6-84e9-d39533573457"
   },
   "outputs": [
    {
     "data": {
      "text/plain": [
       "3"
      ]
     },
     "execution_count": 1,
     "metadata": {},
     "output_type": "execute_result"
    }
   ],
   "source": [
    "# 3. Use the built-in random module to simulate rolling a dice (1–6).\n",
    "\n",
    "import random\n",
    "\n",
    "def roll_dice():\n",
    "    return random.randint(1,6)\n",
    "\n",
    "roll_dice()\n"
   ]
  },
  {
   "cell_type": "code",
   "execution_count": null,
   "id": "cbff7d98",
   "metadata": {
    "id": "cbff7d98"
   },
   "outputs": [],
   "source": []
  }
 ],
 "metadata": {
  "colab": {
   "provenance": []
  },
  "kernelspec": {
   "display_name": "base",
   "language": "python",
   "name": "python3"
  },
  "language_info": {
   "codemirror_mode": {
    "name": "ipython",
    "version": 3
   },
   "file_extension": ".py",
   "mimetype": "text/x-python",
   "name": "python",
   "nbconvert_exporter": "python",
   "pygments_lexer": "ipython3",
   "version": "3.13.5"
  }
 },
 "nbformat": 4,
 "nbformat_minor": 5
}
