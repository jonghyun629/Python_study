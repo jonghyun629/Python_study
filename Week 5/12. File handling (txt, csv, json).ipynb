{
 "cells": [
  {
   "cell_type": "markdown",
   "id": "c48f0dcc",
   "metadata": {},
   "source": [
    "# 🔹 1. TXT Files\n",
    "\n",
    "### Writing to a text file"
   ]
  },
  {
   "cell_type": "code",
   "execution_count": 1,
   "id": "bac36f86",
   "metadata": {},
   "outputs": [],
   "source": [
    "# write mode \"w\" (overwrites), append mode \"a\" (adds), read \"r\"\n",
    "with open(\"example.txt\", \"w\") as f:\n",
    "    f.write(\"Hello, World!\\n\")\n",
    "    f.write(\"This is a text file.\")"
   ]
  },
  {
   "cell_type": "markdown",
   "id": "563ed7de",
   "metadata": {},
   "source": [
    "### Reading a text file"
   ]
  },
  {
   "cell_type": "code",
   "execution_count": 2,
   "id": "0a6969fa",
   "metadata": {},
   "outputs": [
    {
     "name": "stdout",
     "output_type": "stream",
     "text": [
      "Hello, World!\n",
      "This is a text file.\n"
     ]
    }
   ],
   "source": [
    "with open(\"example.txt\", \"r\") as f:\n",
    "    content = f.read()\n",
    "print(content)"
   ]
  },
  {
   "cell_type": "markdown",
   "id": "755ef744",
   "metadata": {},
   "source": [
    "👉 You can also use:\n",
    "\n",
    "- `f.readline()` → read one line\n",
    "- `f.readlines()` → read all lines into a list"
   ]
  },
  {
   "cell_type": "markdown",
   "id": "dbb3fc02",
   "metadata": {},
   "source": [
    "---"
   ]
  },
  {
   "cell_type": "markdown",
   "id": "9dd87fc1",
   "metadata": {},
   "source": [
    "# 🔹 2. CSV Files (Comma-Separated Values)\n",
    "\n",
    "Used for **tables/spreadsheets**."
   ]
  },
  {
   "cell_type": "markdown",
   "id": "2d56a390",
   "metadata": {},
   "source": [
    "### Writing CSV"
   ]
  },
  {
   "cell_type": "code",
   "execution_count": 3,
   "id": "4be82b4c",
   "metadata": {},
   "outputs": [],
   "source": [
    "import csv\n",
    "\n",
    "with open(\"data.csv\", \"w\", newline=\"\") as f:\n",
    "    writer = csv.writer(f)\n",
    "    writer.writerow([\"Name\", \"Age\"])\n",
    "    writer.writerow([\"Alice\", 25])\n",
    "    writer.writerow([\"Bob\", 30])"
   ]
  },
  {
   "cell_type": "markdown",
   "id": "57dc9350",
   "metadata": {},
   "source": [
    "👉 Creates:\n",
    "\n",
    "```\n",
    "Name,Age\n",
    "Alice,25\n",
    "Bob,30\n",
    "\n",
    "```"
   ]
  },
  {
   "cell_type": "markdown",
   "id": "874b701c",
   "metadata": {},
   "source": [
    "### Reading CSV"
   ]
  },
  {
   "cell_type": "code",
   "execution_count": 4,
   "id": "0c469516",
   "metadata": {},
   "outputs": [
    {
     "name": "stdout",
     "output_type": "stream",
     "text": [
      "['Name', 'Age']\n",
      "['Alice', '25']\n",
      "['Bob', '30']\n"
     ]
    }
   ],
   "source": [
    "import csv\n",
    "\n",
    "with open(\"data.csv\", \"r\") as f:\n",
    "    reader = csv.reader(f)\n",
    "    for row in reader:\n",
    "        print(row)"
   ]
  },
  {
   "cell_type": "markdown",
   "id": "93b378a6",
   "metadata": {},
   "source": [
    "👉 Output:\n",
    "\n",
    "```\n",
    "['Name', 'Age']\n",
    "['Alice', '25']\n",
    "['Bob', '30']\n",
    "\n",
    "```"
   ]
  },
  {
   "cell_type": "markdown",
   "id": "e6bcde86",
   "metadata": {},
   "source": [
    "---"
   ]
  },
  {
   "cell_type": "markdown",
   "id": "cedde89b",
   "metadata": {},
   "source": [
    "# 🔹 3. JSON Files (JavaScript Object Notation)\n",
    "\n",
    "Used for **structured data** (like dictionaries). Common in APIs."
   ]
  },
  {
   "cell_type": "markdown",
   "id": "3b60ecd8",
   "metadata": {},
   "source": [
    "### Writing JSON"
   ]
  },
  {
   "cell_type": "code",
   "execution_count": 5,
   "id": "84d61cc0",
   "metadata": {},
   "outputs": [],
   "source": [
    "import json\n",
    "\n",
    "data = {\"name\": \"Alice\", \"age\": 25, \"hobbies\": [\"reading\", \"cycling\"]}\n",
    "\n",
    "with open(\"data.json\", \"w\") as f:\n",
    "    json.dump(data, f)"
   ]
  },
  {
   "cell_type": "markdown",
   "id": "2f3bec12",
   "metadata": {},
   "source": [
    "### Reading JSON"
   ]
  },
  {
   "cell_type": "code",
   "execution_count": 6,
   "id": "38e7edc5",
   "metadata": {},
   "outputs": [
    {
     "name": "stdout",
     "output_type": "stream",
     "text": [
      "{'name': 'Alice', 'age': 25, 'hobbies': ['reading', 'cycling']}\n",
      "Alice\n"
     ]
    }
   ],
   "source": [
    "import json\n",
    "\n",
    "with open(\"data.json\", \"r\") as f:\n",
    "    data = json.load(f)\n",
    "\n",
    "print(data)\n",
    "print(data[\"name\"])   # Alice"
   ]
  },
  {
   "cell_type": "markdown",
   "id": "09b14e36",
   "metadata": {},
   "source": [
    "---"
   ]
  },
  {
   "cell_type": "markdown",
   "id": "a3e55af6",
   "metadata": {},
   "source": [
    "# 🔹 Quick Summary\n",
    "\n",
    "- **TXT** → plain text, use `open()`.\n",
    "- **CSV** → tables/spreadsheets, use `csv` module.\n",
    "- **JSON** → structured data (dicts/lists), use `json` module.\n"
   ]
  },
  {
   "cell_type": "markdown",
   "id": "a8827c75",
   "metadata": {},
   "source": [
    "---"
   ]
  },
  {
   "cell_type": "markdown",
   "id": "65f95f34",
   "metadata": {},
   "source": [
    "# 🔹 Practice 📝\n",
    "\n",
    "1. Write a program that saves 3 lines of text into `notes.txt`, then reads it back.\n",
    "2. Create a `students.csv` with names & grades, then read and print it.\n",
    "3. Save a dictionary `{\"city\": \"Seoul\", \"temp\": 27}` into `weather.json`, then load and print it."
   ]
  },
  {
   "cell_type": "markdown",
   "id": "97b1cbb4",
   "metadata": {},
   "source": [
    "---"
   ]
  }
 ],
 "metadata": {
  "colab": {
   "provenance": []
  },
  "kernelspec": {
   "display_name": "base",
   "language": "python",
   "name": "python3"
  },
  "language_info": {
   "codemirror_mode": {
    "name": "ipython",
    "version": 3
   },
   "file_extension": ".py",
   "mimetype": "text/x-python",
   "name": "python",
   "nbconvert_exporter": "python",
   "pygments_lexer": "ipython3",
   "version": "3.13.5"
  }
 },
 "nbformat": 4,
 "nbformat_minor": 5
}
