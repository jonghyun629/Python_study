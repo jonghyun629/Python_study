{
 "cells": [
  {
   "cell_type": "markdown",
   "id": "af136993",
   "metadata": {
    "id": "af136993"
   },
   "source": [
    "### ⚽ Goal:\n",
    "\n",
    "- [ ]  Diary app that saves entries to a text file\n",
    "- [ ]  JSON-based contact book"
   ]
  },
  {
   "cell_type": "code",
   "execution_count": 2,
   "id": "a9a5df53",
   "metadata": {
    "id": "a9a5df53"
   },
   "outputs": [
    {
     "name": "stdout",
     "output_type": "stream",
     "text": [
      "Dear Diary,\n",
      "Today was a good day!\n",
      "I learned something new.\n",
      "\n"
     ]
    }
   ],
   "source": [
    "# Diary app that saves entries to a text file\n",
    "\n",
    "# create diary.txt\n",
    "with open('diary.txt', 'w') as file:\n",
    "    file.write(\"Dear Diary,\\n\")\n",
    "    file.write(\"Today was a good day!\\n\")\n",
    "    file.write(\"I learned something new.\\n\")\n",
    "\n",
    "# read diary.txt\n",
    "with open('diary.txt', 'r') as file:\n",
    "    content = file.read()\n",
    "    print(content)"
   ]
  },
  {
   "cell_type": "code",
   "execution_count": 3,
   "id": "757cb4a2",
   "metadata": {
    "id": "757cb4a2",
    "outputId": "7b90e3eb-2abe-46a6-84e9-d39533573457"
   },
   "outputs": [
    {
     "name": "stdout",
     "output_type": "stream",
     "text": [
      "Name: Alice, Phone: 123-456-7890\n",
      "Name: Bob, Phone: 987-654-3210\n",
      "Name: Charlie, Phone: 555-555-5555\n"
     ]
    }
   ],
   "source": [
    "# 2. JSON-based contact book\n",
    "import json\n",
    "# create contacts.json\n",
    "with open('contacts.json', 'w') as file:\n",
    "    json.dump([\n",
    "        {\"name\": \"Alice\", \"phone\": \"123-456-7890\"},\n",
    "        {\"name\": \"Bob\", \"phone\": \"987-654-3210\"},\n",
    "        {\"name\": \"Charlie\", \"phone\": \"555-555-5555\"}\n",
    "    ], file)\n",
    "\n",
    "# read contacts.json\n",
    "with open('contacts.json', 'r') as file:\n",
    "    contacts = json.load(file)\n",
    "    for contact in contacts:\n",
    "        print(f\"Name: {contact['name']}, Phone: {contact['phone']}\")\n"
   ]
  },
  {
   "cell_type": "code",
   "execution_count": null,
   "id": "53df135e",
   "metadata": {},
   "outputs": [],
   "source": []
  }
 ],
 "metadata": {
  "colab": {
   "provenance": []
  },
  "kernelspec": {
   "display_name": "base",
   "language": "python",
   "name": "python3"
  },
  "language_info": {
   "codemirror_mode": {
    "name": "ipython",
    "version": 3
   },
   "file_extension": ".py",
   "mimetype": "text/x-python",
   "name": "python",
   "nbconvert_exporter": "python",
   "pygments_lexer": "ipython3",
   "version": "3.13.5"
  }
 },
 "nbformat": 4,
 "nbformat_minor": 5
}
