{
 "cells": [
  {
   "cell_type": "markdown",
   "id": "bea1ad9f",
   "metadata": {},
   "source": [
    "# 🔹 1. What is a Module?\n",
    "\n",
    "- A **module** is just a **Python file (`.py`)** that contains functions, classes, or variables you want to reuse.\n",
    "- Think of it as a **toolbox**."
   ]
  },
  {
   "cell_type": "markdown",
   "id": "178d890b",
   "metadata": {},
   "source": [
    "### Example: mymath.py"
   ]
  },
  {
   "cell_type": "code",
   "execution_count": null,
   "id": "e716867c",
   "metadata": {},
   "outputs": [],
   "source": [
    "# mymath.py\n",
    "def add(a, b):\n",
    "    return a + b\n",
    "\n",
    "def square(x):\n",
    "    return x * x"
   ]
  },
  {
   "cell_type": "markdown",
   "id": "f8ba3aa0",
   "metadata": {},
   "source": [
    "Now in another file:"
   ]
  },
  {
   "cell_type": "code",
   "execution_count": null,
   "id": "e943d020",
   "metadata": {},
   "outputs": [],
   "source": [
    "import mymath\n",
    "\n",
    "print(mymath.add(3, 4))     # 7\n",
    "print(mymath.square(5))     # 25"
   ]
  },
  {
   "cell_type": "markdown",
   "id": "c8ddb2e4",
   "metadata": {},
   "source": [
    "👉 `mymath` is a **module**."
   ]
  },
  {
   "cell_type": "markdown",
   "id": "7ed6a01c",
   "metadata": {},
   "source": [
    "---\n"
   ]
  },
  {
   "cell_type": "markdown",
   "id": "6926fe5f",
   "metadata": {},
   "source": [
    "# 🔹 2. Built-in Modules\n",
    "\n",
    "Python already comes with many modules.\n",
    "\n",
    "Examples: `math`, `random`, `datetime`."
   ]
  },
  {
   "cell_type": "code",
   "execution_count": null,
   "id": "ed69e3c9",
   "metadata": {},
   "outputs": [],
   "source": [
    "import math\n",
    "print(math.sqrt(16))    # 4.0\n",
    "print(math.pi)          # 3.14159"
   ]
  },
  {
   "cell_type": "code",
   "execution_count": null,
   "id": "273b0dc4",
   "metadata": {},
   "outputs": [],
   "source": [
    "import random\n",
    "print(random.randint(1, 10))  # random number 1–10"
   ]
  },
  {
   "cell_type": "markdown",
   "id": "4bd00ac3",
   "metadata": {},
   "source": [
    "---"
   ]
  },
  {
   "cell_type": "markdown",
   "id": "e76d872e",
   "metadata": {},
   "source": [
    "# 🔹 3. Import Variations"
   ]
  },
  {
   "cell_type": "code",
   "execution_count": null,
   "id": "f5f38243",
   "metadata": {},
   "outputs": [],
   "source": [
    "import math\n",
    "print(math.sqrt(25))\n",
    "\n",
    "from math import sqrt, pi\n",
    "print(sqrt(25), pi)     # directly use\n",
    "\n",
    "import math as m\n",
    "print(m.sqrt(25))       # alias"
   ]
  },
  {
   "cell_type": "markdown",
   "id": "09805bc4",
   "metadata": {},
   "source": [
    "---"
   ]
  },
  {
   "cell_type": "markdown",
   "id": "a4602257",
   "metadata": {},
   "source": [
    "# 🔹 4. What is a Package?\n",
    "\n",
    "- A **package** is a **collection of modules** in a folder.\n",
    "- The folder usually contains an `__init__.py` file (can be empty) to tell Python it’s a package.\n",
    "- Example folder structure:\n"
   ]
  },
  {
   "cell_type": "markdown",
   "id": "f12c708d",
   "metadata": {},
   "source": [
    "```\n",
    "mypackage/\n",
    "    __init__.py\n",
    "    math_tools.py\n",
    "    string_tools.py\n",
    "\n",
    "```"
   ]
  },
  {
   "cell_type": "markdown",
   "id": "a121555b",
   "metadata": {},
   "source": [
    "### Usage:"
   ]
  },
  {
   "cell_type": "code",
   "execution_count": null,
   "id": "d5d995f9",
   "metadata": {},
   "outputs": [],
   "source": [
    "from mypackage import math_tools\n",
    "print(math_tools.add(2, 3))"
   ]
  },
  {
   "cell_type": "markdown",
   "id": "41c83774",
   "metadata": {},
   "source": [
    "---"
   ]
  },
  {
   "cell_type": "markdown",
   "id": "8fe21d48",
   "metadata": {},
   "source": [
    "# 🔹 5. Installing External Packages\n",
    "\n",
    "- You can install third-party packages using **pip**:"
   ]
  },
  {
   "cell_type": "code",
   "execution_count": null,
   "id": "9c1c68f5",
   "metadata": {},
   "outputs": [],
   "source": [
    "pip install requests"
   ]
  },
  {
   "cell_type": "markdown",
   "id": "d75d14a5",
   "metadata": {},
   "source": [
    "- Example:"
   ]
  },
  {
   "cell_type": "code",
   "execution_count": null,
   "id": "06e460e0",
   "metadata": {},
   "outputs": [],
   "source": [
    "import requests\n",
    "\n",
    "response = requests.get(\"https://api.github.com\")\n",
    "print(response.status_code)   # 200"
   ]
  },
  {
   "cell_type": "markdown",
   "id": "9196588f",
   "metadata": {},
   "source": [
    "---"
   ]
  },
  {
   "cell_type": "markdown",
   "id": "e7ec9db0",
   "metadata": {},
   "source": [
    "# 🔹 Quick Summary\n",
    "\n",
    "- **Module** = single `.py` file with code you can reuse.\n",
    "- **Package** = folder with multiple modules.\n",
    "- **Built-in modules** (like `math`, `random`) are ready to use.\n",
    "- **External packages** are installed via `pip`."
   ]
  },
  {
   "cell_type": "markdown",
   "id": "61384b4a",
   "metadata": {},
   "source": [
    "---"
   ]
  },
  {
   "cell_type": "markdown",
   "id": "a3e55af6",
   "metadata": {},
   "source": [
    "# 🔹 Practice 📝\n",
    "\n",
    "1. Create a file `greet.py` with a function `say_hello(name)` that prints `\"Hello, {name}\"`.\n",
    "2. Import it into another Python file and call it.\n",
    "3. Use the built-in `random` module to simulate rolling a dice (1–6).\n"
   ]
  },
  {
   "cell_type": "markdown",
   "id": "a8827c75",
   "metadata": {},
   "source": [
    "---"
   ]
  }
 ],
 "metadata": {
  "colab": {
   "provenance": []
  },
  "kernelspec": {
   "display_name": "base",
   "language": "python",
   "name": "python3"
  },
  "language_info": {
   "codemirror_mode": {
    "name": "ipython",
    "version": 3
   },
   "file_extension": ".py",
   "mimetype": "text/x-python",
   "name": "python",
   "nbconvert_exporter": "python",
   "pygments_lexer": "ipython3",
   "version": "3.13.5"
  }
 },
 "nbformat": 4,
 "nbformat_minor": 5
}
