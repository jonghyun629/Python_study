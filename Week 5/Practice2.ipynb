{
 "cells": [
  {
   "cell_type": "markdown",
   "id": "af136993",
   "metadata": {
    "id": "af136993"
   },
   "source": [
    "# 🔹 Practice 📝\n",
    "\n",
    "1. Write a program that saves 3 lines of text into `notes.txt`, then reads it back.\n",
    "2. Create a `students.csv` with names & grades, then read and print it.\n",
    "3. Save a dictionary `{\"city\": \"Seoul\", \"temp\": 27}` into `weather.json`, then load and print it.\n",
    "---"
   ]
  },
  {
   "cell_type": "code",
   "execution_count": 1,
   "id": "a9a5df53",
   "metadata": {
    "id": "a9a5df53"
   },
   "outputs": [
    {
     "name": "stdout",
     "output_type": "stream",
     "text": [
      "Line 1: This is the first line.\n",
      "Line 2: This is the second line.\n",
      "Line 3: This is the third line.\n",
      "\n"
     ]
    }
   ],
   "source": [
    "# 1. Write a program that saves 3 lines of text into notes.txt, then reads it back.\n",
    "\n",
    "# create note.txt\n",
    "with open('notes.txt', 'w') as file:\n",
    "    file.write(\"Line 1: This is the first line.\\n\")\n",
    "    file.write(\"Line 2: This is the second line.\\n\")\n",
    "    file.write(\"Line 3: This is the third line.\\n\")\n",
    "\n",
    "# read note.txt\n",
    "with open('notes.txt', 'r') as file:\n",
    "    content = file.read()\n",
    "    print(content)"
   ]
  },
  {
   "cell_type": "code",
   "execution_count": 2,
   "id": "757cb4a2",
   "metadata": {
    "id": "757cb4a2",
    "outputId": "7b90e3eb-2abe-46a6-84e9-d39533573457"
   },
   "outputs": [
    {
     "name": "stdout",
     "output_type": "stream",
     "text": [
      "name,grade\n",
      "Alice,90\n",
      "Bob,85\n",
      "Charlie,92\n",
      "\n"
     ]
    }
   ],
   "source": [
    "# 2. Create a students.csv with names & grades, then read and print it.\n",
    "\n",
    "# create students.csv\n",
    "with open('students.csv', 'w') as file:\n",
    "    file.write('name,grade\\n')\n",
    "    file.write('Alice,90\\n')\n",
    "    file.write('Bob,85\\n')\n",
    "    file.write('Charlie,92\\n')\n",
    "\n",
    "# read students.csv\n",
    "with open('students.csv', 'r') as file:\n",
    "    content = file.read()\n",
    "    print(content)"
   ]
  },
  {
   "cell_type": "code",
   "execution_count": 4,
   "id": "cbff7d98",
   "metadata": {
    "id": "cbff7d98"
   },
   "outputs": [
    {
     "name": "stdout",
     "output_type": "stream",
     "text": [
      "{'city': 'Seoul', 'temp': 27}\n"
     ]
    }
   ],
   "source": [
    "# 3. Save a dictionary {\"city\": \"Seoul\", \"temp\": 27} into weather.json, then load and print it.\n",
    "\n",
    "import json\n",
    "\n",
    "# create weather.json\n",
    "with open('weather.json', 'w') as file:\n",
    "    json.dump({\"city\": \"Seoul\", \"temp\": 27}, file)\n",
    "\n",
    "# read weather.json\n",
    "with open('weather.json', 'r') as file:\n",
    "    data = json.load(file)\n",
    "    print(data)"
   ]
  },
  {
   "cell_type": "code",
   "execution_count": null,
   "id": "a1a8749a",
   "metadata": {},
   "outputs": [],
   "source": []
  }
 ],
 "metadata": {
  "colab": {
   "provenance": []
  },
  "kernelspec": {
   "display_name": "base",
   "language": "python",
   "name": "python3"
  },
  "language_info": {
   "codemirror_mode": {
    "name": "ipython",
    "version": 3
   },
   "file_extension": ".py",
   "mimetype": "text/x-python",
   "name": "python",
   "nbconvert_exporter": "python",
   "pygments_lexer": "ipython3",
   "version": "3.13.5"
  }
 },
 "nbformat": 4,
 "nbformat_minor": 5
}
