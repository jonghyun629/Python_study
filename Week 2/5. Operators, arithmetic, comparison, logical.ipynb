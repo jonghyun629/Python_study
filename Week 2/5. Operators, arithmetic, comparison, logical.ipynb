{
 "cells": [
  {
   "cell_type": "markdown",
   "id": "01d028a2",
   "metadata": {},
   "source": [
    "# 🔹 1. Arithmetic Operators\n",
    "\n",
    "Used for math calculations."
   ]
  },
  {
   "cell_type": "code",
   "execution_count": 1,
   "id": "1b79d595",
   "metadata": {},
   "outputs": [
    {
     "name": "stdout",
     "output_type": "stream",
     "text": [
      "13\n",
      "7\n",
      "30\n",
      "3.3333333333333335\n",
      "3\n",
      "1\n",
      "1000\n"
     ]
    }
   ],
   "source": [
    "x = 10\n",
    "y = 3\n",
    "\n",
    "print(x + y)   # 13 (addition)\n",
    "print(x - y)   # 7  (subtraction)\n",
    "print(x * y)   # 30 (multiplication)\n",
    "print(x / y)   # 3.333... (division)\n",
    "print(x // y)  # 3 (floor division → whole number)\n",
    "print(x % y)   # 1 (modulus → remainder)\n",
    "print(x ** y)  # 1000 (exponent → 10^3)"
   ]
  },
  {
   "cell_type": "markdown",
   "id": "8c7f3cf7",
   "metadata": {},
   "source": [
    "---"
   ]
  },
  {
   "cell_type": "markdown",
   "id": "c8ca6e28",
   "metadata": {},
   "source": [
    "# 🔹 2. Comparison Operators\n",
    "\n",
    "Used to compare values.\n",
    "\n",
    "They return **True** or **False**."
   ]
  },
  {
   "cell_type": "code",
   "execution_count": 2,
   "id": "a79cf89e",
   "metadata": {},
   "outputs": [
    {
     "name": "stdout",
     "output_type": "stream",
     "text": [
      "False\n",
      "True\n",
      "False\n",
      "True\n",
      "True\n",
      "False\n"
     ]
    }
   ],
   "source": [
    "a = 5\n",
    "b = 10\n",
    "\n",
    "print(a == b)   # False (equal to)\n",
    "print(a != b)   # True  (not equal to)\n",
    "print(a > b)    # False\n",
    "print(a < b)    # True\n",
    "print(a >= 5)   # True\n",
    "print(b <= 9)   # False"
   ]
  },
  {
   "cell_type": "markdown",
   "id": "f5d757b0",
   "metadata": {},
   "source": [
    "---"
   ]
  },
  {
   "cell_type": "markdown",
   "id": "d5bcc98c",
   "metadata": {},
   "source": [
    "# 🔹 3. Logical Operators\n",
    "\n",
    "Combine multiple conditions."
   ]
  },
  {
   "cell_type": "code",
   "execution_count": 3,
   "id": "16d76ca8",
   "metadata": {},
   "outputs": [
    {
     "name": "stdout",
     "output_type": "stream",
     "text": [
      "True\n",
      "True\n",
      "False\n"
     ]
    }
   ],
   "source": [
    "x = 7\n",
    "\n",
    "print(x > 5 and x < 10)   # True (both must be True)\n",
    "print(x > 5 or x < 5)     # True (at least one True)\n",
    "print(not(x > 5))         # False (negates the result)"
   ]
  },
  {
   "cell_type": "markdown",
   "id": "0a56b1ae",
   "metadata": {},
   "source": [
    "---"
   ]
  },
  {
   "cell_type": "markdown",
   "id": "be6aded0",
   "metadata": {},
   "source": [
    "# 🔹 Quick Summary Table\n",
    "\n",
    "| Type | Operator | Meaning | Example (`x=10, y=3`) |\n",
    "| --- | --- | --- | --- |\n",
    "| Arithmetic | + | Addition | 10 + 3 → 13 |\n",
    "|  | - | Subtraction | 10 - 3 → 7 |\n",
    "|  | * | Multiplication | 10 * 3 → 30 |\n",
    "|  | / | Division | 10 / 3 → 3.33 |\n",
    "|  | // | Floor division | 10 // 3 → 3 |\n",
    "|  | % | Modulus (remainder) | 10 % 3 → 1 |\n",
    "|  | ** | Exponentiation | 10 ** 3 → 1000 |\n",
    "| Comparison | == | Equal | 10 == 3 → False |\n",
    "|  | != | Not equal | 10 != 3 → True |\n",
    "|  | >, < | Greater, Less | 10 > 3 → True |\n",
    "|  | >=, <= | Greater/less or equal | 10 >= 10 → True |\n",
    "| Logical | and | Both True | True and False → False |\n",
    "|  | or | One True | True or False → True |\n",
    "|  | not | Negation | not True → False |\n"
   ]
  },
  {
   "cell_type": "markdown",
   "id": "ad46dc45",
   "metadata": {},
   "source": [
    "---"
   ]
  },
  {
   "cell_type": "markdown",
   "id": "b3364320",
   "metadata": {},
   "source": [
    "# 🔹 Practice 📝\n",
    "\n",
    "Try these:\n",
    "\n",
    "1. Check if a number is **even** (hint: use `%`).\n",
    "2. Write a condition that checks if age is between 18 and 30.\n",
    "3. Ask the user for two numbers → print which one is bigger.\n",
    "4. Test if a number is **NOT** greater than 100."
   ]
  },
  {
   "cell_type": "markdown",
   "id": "5f88fb99",
   "metadata": {},
   "source": [
    "---"
   ]
  }
 ],
 "metadata": {
  "kernelspec": {
   "display_name": "base",
   "language": "python",
   "name": "python3"
  },
  "language_info": {
   "codemirror_mode": {
    "name": "ipython",
    "version": 3
   },
   "file_extension": ".py",
   "mimetype": "text/x-python",
   "name": "python",
   "nbconvert_exporter": "python",
   "pygments_lexer": "ipython3",
   "version": "3.13.5"
  }
 },
 "nbformat": 4,
 "nbformat_minor": 5
}
