{
 "cells": [
  {
   "cell_type": "markdown",
   "id": "b3364320",
   "metadata": {},
   "source": [
    "# 🔹 1. **Lists**\n",
    "\n",
    "- Ordered, changeable (mutable), allow duplicates.\n",
    "- Use `[]`."
   ]
  },
  {
   "cell_type": "code",
   "execution_count": 1,
   "id": "572930da",
   "metadata": {},
   "outputs": [
    {
     "name": "stdout",
     "output_type": "stream",
     "text": [
      "apple\n",
      "['apple', 'grape', 'cherry']\n",
      "['apple', 'grape', 'cherry', 'mango']\n"
     ]
    }
   ],
   "source": [
    "fruits = [\"apple\", \"banana\", \"cherry\"]\n",
    "print(fruits[0])        # apple (indexing starts at 0)\n",
    "fruits[1] = \"grape\"     # change item\n",
    "print(fruits)           # ['apple', 'grape', 'cherry']\n",
    "fruits.append(\"mango\")  # add item\n",
    "print(fruits)           # ['apple', 'grape', 'cherry', 'mango']"
   ]
  },
  {
   "cell_type": "markdown",
   "id": "aeb12cae",
   "metadata": {},
   "source": [
    "👉 Think of a list like a shopping list: order matters, you can add/change items."
   ]
  },
  {
   "cell_type": "markdown",
   "id": "9d0ec0ae",
   "metadata": {},
   "source": [
    "---"
   ]
  },
  {
   "cell_type": "markdown",
   "id": "ddf410ea",
   "metadata": {},
   "source": [
    "# 🔹 2. **Tuples**\n",
    "\n",
    "- Ordered, **unchangeable** (immutable), allow duplicates.\n",
    "- Use `()`."
   ]
  },
  {
   "cell_type": "code",
   "execution_count": 2,
   "id": "89c94a8c",
   "metadata": {},
   "outputs": [
    {
     "name": "stdout",
     "output_type": "stream",
     "text": [
      "red\n"
     ]
    }
   ],
   "source": [
    "colors = (\"red\", \"green\", \"blue\")\n",
    "print(colors[0])    # red\n",
    "# colors[1] = \"yellow\"  ❌ Error (cannot change)"
   ]
  },
  {
   "cell_type": "markdown",
   "id": "5f88fb99",
   "metadata": {},
   "source": [
    "👉 Use tuples when you want data to stay fixed (like coordinates `(x, y)`)."
   ]
  },
  {
   "cell_type": "markdown",
   "id": "3cf3370f",
   "metadata": {},
   "source": [
    "---"
   ]
  },
  {
   "cell_type": "markdown",
   "id": "896fb828",
   "metadata": {},
   "source": [
    "# 🔹 3. **Dictionaries**\n",
    "\n",
    "- Store data as **key → value** pairs.\n",
    "- Unordered (in Python 3.7+, they keep insertion order).\n",
    "- Use `{}`."
   ]
  },
  {
   "cell_type": "code",
   "execution_count": 3,
   "id": "4edf1977",
   "metadata": {},
   "outputs": [
    {
     "name": "stdout",
     "output_type": "stream",
     "text": [
      "Alice\n",
      "{'name': 'Alice', 'age': 21, 'grade': 'A', 'school': 'DYB'}\n"
     ]
    }
   ],
   "source": [
    "student = {\n",
    "    \"name\": \"Alice\",\n",
    "    \"age\": 20,\n",
    "    \"grade\": \"A\"\n",
    "}\n",
    "\n",
    "print(student[\"name\"])   # Alice\n",
    "student[\"age\"] = 21      # update value\n",
    "student[\"school\"] = \"DYB\"  # add new key\n",
    "print(student)\n",
    "# {'name': 'Alice', 'age': 21, 'grade': 'A', 'school': 'DYB'}"
   ]
  },
  {
   "cell_type": "markdown",
   "id": "0e4424a6",
   "metadata": {},
   "source": [
    "👉 Think of a dictionary like a real dictionary: **word = definition**."
   ]
  },
  {
   "cell_type": "markdown",
   "id": "f4e895ce",
   "metadata": {},
   "source": [
    "---"
   ]
  },
  {
   "cell_type": "markdown",
   "id": "a26e454f",
   "metadata": {},
   "source": [
    "# 🔹 4. **Sets**\n",
    "\n",
    "- Unordered, **no duplicates**, mutable.\n",
    "- Use `{}` but not for empty set (`set()` instead)."
   ]
  },
  {
   "cell_type": "code",
   "execution_count": 4,
   "id": "6f66650e",
   "metadata": {},
   "outputs": [
    {
     "name": "stdout",
     "output_type": "stream",
     "text": [
      "{1, 2, 3}\n",
      "{1, 2, 3, 4}\n",
      "{1, 3, 4}\n"
     ]
    }
   ],
   "source": [
    "numbers = {1, 2, 3, 3, 2}\n",
    "print(numbers)   # {1, 2, 3} (duplicates removed)\n",
    "\n",
    "numbers.add(4)\n",
    "print(numbers)   # {1, 2, 3, 4}\n",
    "\n",
    "numbers.remove(2)\n",
    "print(numbers)   # {1, 3, 4}"
   ]
  },
  {
   "cell_type": "markdown",
   "id": "328ff7b2",
   "metadata": {},
   "source": [
    "👉 Sets are great for removing duplicates or doing math operations (union, intersection)."
   ]
  },
  {
   "cell_type": "code",
   "execution_count": 5,
   "id": "8ac071e6",
   "metadata": {},
   "outputs": [
    {
     "name": "stdout",
     "output_type": "stream",
     "text": [
      "{1, 2, 3, 4, 5}\n",
      "{3}\n"
     ]
    }
   ],
   "source": [
    "a = {1, 2, 3}\n",
    "b = {3, 4, 5}\n",
    "\n",
    "print(a | b)   # union {1, 2, 3, 4, 5}\n",
    "print(a & b)   # intersection {3}"
   ]
  },
  {
   "cell_type": "markdown",
   "id": "d055ac23",
   "metadata": {},
   "source": [
    "---"
   ]
  },
  {
   "cell_type": "markdown",
   "id": "111d53c5",
   "metadata": {},
   "source": [
    "# 🔹 Quick Comparison\n",
    "\n",
    "| Structure | Ordered? | Changeable? | Allows Duplicates? | Example Use |\n",
    "| --- | --- | --- | --- | --- |\n",
    "| **List** | ✅ Yes | ✅ Yes | ✅ Yes | Shopping list |\n",
    "| **Tuple** | ✅ Yes | ❌ No | ✅ Yes | Coordinates `(x, y)` |\n",
    "| **Dictionary** | ✅ (3.7+) | ✅ Yes | ✅ Keys unique | Student info (`name → Alice`) |\n",
    "| **Set** | ❌ No | ✅ Yes | ❌ No | Unique IDs |\n"
   ]
  },
  {
   "cell_type": "markdown",
   "id": "99391146",
   "metadata": {},
   "source": [
    "---"
   ]
  },
  {
   "cell_type": "markdown",
   "id": "a02eb968",
   "metadata": {},
   "source": [
    "# 🔹 Practice 📝\n",
    "\n",
    "Try to:\n",
    "\n",
    "1. Make a **list** of your 3 favorite foods.\n",
    "2. Make a **tuple** with your birth year and birth month.\n",
    "3. Make a **dictionary** with keys: `\"name\"`, `\"age\"`, `\"hobby\"`.\n",
    "4. Make a **set** with some numbers (include duplicates) and see how Python removes them.\n"
   ]
  },
  {
   "cell_type": "markdown",
   "id": "2bf05f0a",
   "metadata": {},
   "source": [
    "---"
   ]
  }
 ],
 "metadata": {
  "kernelspec": {
   "display_name": "base",
   "language": "python",
   "name": "python3"
  },
  "language_info": {
   "codemirror_mode": {
    "name": "ipython",
    "version": 3
   },
   "file_extension": ".py",
   "mimetype": "text/x-python",
   "name": "python",
   "nbconvert_exporter": "python",
   "pygments_lexer": "ipython3",
   "version": "3.13.5"
  }
 },
 "nbformat": 4,
 "nbformat_minor": 5
}
