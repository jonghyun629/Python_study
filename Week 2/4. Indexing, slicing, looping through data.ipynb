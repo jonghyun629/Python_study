{
 "cells": [
  {
   "cell_type": "markdown",
   "id": "467b1e59",
   "metadata": {},
   "source": [
    "# 🔹 1. Indexing\n",
    "\n",
    "- Python uses **zero-based indexing**: first item = index `0`.\n",
    "- Works on lists, tuples, strings."
   ]
  },
  {
   "cell_type": "code",
   "execution_count": 1,
   "id": "a9187624",
   "metadata": {},
   "outputs": [
    {
     "name": "stdout",
     "output_type": "stream",
     "text": [
      "apple\n",
      "banana\n",
      "cherry\n"
     ]
    }
   ],
   "source": [
    "fruits = [\"apple\", \"banana\", \"cherry\"]\n",
    "print(fruits[0])   # apple\n",
    "print(fruits[1])   # banana\n",
    "print(fruits[-1])  # cherry (negative index = count from end)"
   ]
  },
  {
   "cell_type": "markdown",
   "id": "3f300d1c",
   "metadata": {},
   "source": [
    "👉 Negative indexing is handy:\n",
    "\n",
    "- `1` = last item\n",
    "- `2` = second-to-last, etc.\n"
   ]
  },
  {
   "cell_type": "markdown",
   "id": "cb197ca6",
   "metadata": {},
   "source": [
    "---"
   ]
  },
  {
   "cell_type": "markdown",
   "id": "a9b3e6d1",
   "metadata": {},
   "source": [
    "# 🔹 2. Slicing\n",
    "\n",
    "- Use `[start:end]` to get part of a sequence.\n",
    "- `start` = inclusive, `end` = exclusive.\n",
    "- You can also use `[start:end:step]`.\n"
   ]
  },
  {
   "cell_type": "code",
   "execution_count": 2,
   "id": "896993e2",
   "metadata": {},
   "outputs": [
    {
     "name": "stdout",
     "output_type": "stream",
     "text": [
      "[1, 2, 3]\n",
      "[0, 1, 2]\n",
      "[3, 4, 5]\n",
      "[0, 2, 4]\n",
      "[5, 4, 3, 2, 1, 0]\n"
     ]
    }
   ],
   "source": [
    "numbers = [0, 1, 2, 3, 4, 5]\n",
    "\n",
    "print(numbers[1:4])    # [1, 2, 3]  (index 1 → 3)\n",
    "print(numbers[:3])     # [0, 1, 2]  (from start → 2)\n",
    "print(numbers[3:])     # [3, 4, 5]  (from 3 → end)\n",
    "print(numbers[::2])    # [0, 2, 4]  (every 2nd element)\n",
    "print(numbers[::-1])   # [5, 4, 3, 2, 1, 0] (reverse list)"
   ]
  },
  {
   "cell_type": "markdown",
   "id": "dc1f8ce2",
   "metadata": {},
   "source": [
    "👉 Works for **strings** too:"
   ]
  },
  {
   "cell_type": "code",
   "execution_count": 3,
   "id": "9facf3bd",
   "metadata": {},
   "outputs": [
    {
     "name": "stdout",
     "output_type": "stream",
     "text": [
      "Pyt\n",
      "nohtyP\n"
     ]
    }
   ],
   "source": [
    "word = \"Python\"\n",
    "print(word[0:3])   # Pyt\n",
    "print(word[::-1])  # nohtyP (reversed string)"
   ]
  },
  {
   "cell_type": "markdown",
   "id": "0273a257",
   "metadata": {},
   "source": [
    "---"
   ]
  },
  {
   "cell_type": "markdown",
   "id": "fce4793c",
   "metadata": {},
   "source": [
    "# 🔹 3. Looping Through Data\n",
    "\n",
    "You can **iterate** over sequences (lists, tuples, strings, etc.)."
   ]
  },
  {
   "cell_type": "markdown",
   "id": "92efb4f6",
   "metadata": {},
   "source": [
    "### (A) For Loop"
   ]
  },
  {
   "cell_type": "code",
   "execution_count": 4,
   "id": "6c6d05f7",
   "metadata": {},
   "outputs": [
    {
     "name": "stdout",
     "output_type": "stream",
     "text": [
      "apple\n",
      "banana\n",
      "cherry\n"
     ]
    }
   ],
   "source": [
    "fruits = [\"apple\", \"banana\", \"cherry\"]\n",
    "\n",
    "for fruit in fruits:\n",
    "    print(fruit)"
   ]
  },
  {
   "cell_type": "markdown",
   "id": "8241b7a2",
   "metadata": {},
   "source": [
    "### (B) Loop with Index (using `range(len(...))`)"
   ]
  },
  {
   "cell_type": "code",
   "execution_count": 5,
   "id": "7c9dd591",
   "metadata": {},
   "outputs": [
    {
     "name": "stdout",
     "output_type": "stream",
     "text": [
      "0 apple\n",
      "1 banana\n",
      "2 cherry\n"
     ]
    }
   ],
   "source": [
    "for i in range(len(fruits)):\n",
    "    print(i, fruits[i])"
   ]
  },
  {
   "cell_type": "markdown",
   "id": "284521ab",
   "metadata": {},
   "source": [
    "### (C) While Loop"
   ]
  },
  {
   "cell_type": "code",
   "execution_count": 6,
   "id": "fee535af",
   "metadata": {},
   "outputs": [
    {
     "name": "stdout",
     "output_type": "stream",
     "text": [
      "apple\n",
      "banana\n",
      "cherry\n"
     ]
    }
   ],
   "source": [
    "i = 0\n",
    "while i < len(fruits):\n",
    "    print(fruits[i])\n",
    "    i += 1"
   ]
  },
  {
   "cell_type": "markdown",
   "id": "358fa1e5",
   "metadata": {},
   "source": [
    "---"
   ]
  },
  {
   "cell_type": "markdown",
   "id": "8b0056aa",
   "metadata": {},
   "source": [
    "# 🔹 Quick Summary\n",
    "\n",
    "- **Indexing** → pick one item: `list[2]`\n",
    "- **Slicing** → pick a sublist: `list[1:4]`\n",
    "- **Looping** → go through all items: `for item in list:`"
   ]
  },
  {
   "cell_type": "markdown",
   "id": "e9c3976e",
   "metadata": {},
   "source": [
    "---"
   ]
  },
  {
   "cell_type": "markdown",
   "id": "b45dad68",
   "metadata": {},
   "source": [
    "# 🔹 Practice 📝\n",
    "\n",
    "1. Make a list of 5 numbers.\n",
    "    - Print the **first** and **last** number using indexing.\n",
    "2. Slice out the middle 3 numbers.\n",
    "3. Loop through the list and print each number doubled.\n",
    "4. Take a string `\"HelloWorld\"` → print only `\"Hello\"`.\n",
    "5. Reverse the string using slicing."
   ]
  },
  {
   "cell_type": "markdown",
   "id": "5f88fb99",
   "metadata": {},
   "source": [
    "---"
   ]
  },
  {
   "cell_type": "markdown",
   "id": "3ad7af17",
   "metadata": {},
   "source": []
  }
 ],
 "metadata": {
  "kernelspec": {
   "display_name": "base",
   "language": "python",
   "name": "python3"
  },
  "language_info": {
   "codemirror_mode": {
    "name": "ipython",
    "version": 3
   },
   "file_extension": ".py",
   "mimetype": "text/x-python",
   "name": "python",
   "nbconvert_exporter": "python",
   "pygments_lexer": "ipython3",
   "version": "3.13.5"
  }
 },
 "nbformat": 4,
 "nbformat_minor": 5
}
