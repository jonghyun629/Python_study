{
 "cells": [
  {
   "cell_type": "markdown",
   "id": "bcc64552",
   "metadata": {},
   "source": [
    "# 🔹 1. **For Loops**\n",
    "\n",
    "Used when you want to **repeat a block of code for each item in a sequence** (list, tuple, string, range, etc.)."
   ]
  },
  {
   "cell_type": "markdown",
   "id": "50c116d2",
   "metadata": {},
   "source": [
    "### Basic Example:"
   ]
  },
  {
   "cell_type": "code",
   "execution_count": 1,
   "id": "bf0e41df",
   "metadata": {},
   "outputs": [
    {
     "name": "stdout",
     "output_type": "stream",
     "text": [
      "apple\n",
      "banana\n",
      "cherry\n"
     ]
    }
   ],
   "source": [
    "fruits = [\"apple\", \"banana\", \"cherry\"]\n",
    "\n",
    "for fruit in fruits:\n",
    "    print(fruit)"
   ]
  },
  {
   "cell_type": "markdown",
   "id": "c226e1a9",
   "metadata": {},
   "source": [
    "👉 Output:\n",
    "```\n",
    "apple\n",
    "banana\n",
    "cherry\n",
    "\n",
    "```"
   ]
  },
  {
   "cell_type": "markdown",
   "id": "41406a74",
   "metadata": {},
   "source": [
    "### Using `range()`\n",
    "\n",
    "`range(start, stop, step)` generates numbers."
   ]
  },
  {
   "cell_type": "code",
   "execution_count": 2,
   "id": "7dfbf5f8",
   "metadata": {},
   "outputs": [
    {
     "name": "stdout",
     "output_type": "stream",
     "text": [
      "0\n",
      "1\n",
      "2\n",
      "3\n",
      "4\n",
      "2\n",
      "4\n",
      "6\n",
      "8\n"
     ]
    }
   ],
   "source": [
    "for i in range(5):      # 0 → 4\n",
    "    print(i)\n",
    "\n",
    "for i in range(2, 10, 2):   # 2, 4, 6, 8\n",
    "    print(i)"
   ]
  },
  {
   "cell_type": "markdown",
   "id": "3d95401d",
   "metadata": {},
   "source": [
    "---"
   ]
  },
  {
   "cell_type": "markdown",
   "id": "f89d6d81",
   "metadata": {},
   "source": [
    "# 🔹 2. **While Loops**\n",
    "\n",
    "Used when you want to **repeat until a condition is no longer true**."
   ]
  },
  {
   "cell_type": "markdown",
   "id": "337ef8ce",
   "metadata": {},
   "source": [
    "### Example:"
   ]
  },
  {
   "cell_type": "code",
   "execution_count": 3,
   "id": "fae223c8",
   "metadata": {},
   "outputs": [
    {
     "name": "stdout",
     "output_type": "stream",
     "text": [
      "Count is: 0\n",
      "Count is: 1\n",
      "Count is: 2\n",
      "Count is: 3\n",
      "Count is: 4\n"
     ]
    }
   ],
   "source": [
    "count = 0\n",
    "\n",
    "while count < 5:\n",
    "    print(\"Count is:\", count)\n",
    "    count += 1"
   ]
  },
  {
   "cell_type": "markdown",
   "id": "4850e161",
   "metadata": {},
   "source": [
    "👉 Output:\n",
    "\n",
    "```\n",
    "Count is: 0\n",
    "Count is: 1\n",
    "Count is: 2\n",
    "Count is: 3\n",
    "Count is: 4\n",
    "\n",
    "```"
   ]
  },
  {
   "cell_type": "markdown",
   "id": "a15d96e7",
   "metadata": {},
   "source": [
    "⚠️ Be careful: If the condition never becomes `False`, it’s an **infinite loop**."
   ]
  },
  {
   "cell_type": "markdown",
   "id": "a9f5f08e",
   "metadata": {},
   "source": [
    "---"
   ]
  },
  {
   "cell_type": "markdown",
   "id": "7d7000d8",
   "metadata": {},
   "source": [
    "# 🔹 3. Loop Control Statements\n",
    "\n",
    "- **`break`** → stop the loop completely\n",
    "- **`continue`** → skip the current iteration, go to the next"
   ]
  },
  {
   "cell_type": "code",
   "execution_count": 4,
   "id": "102e1655",
   "metadata": {},
   "outputs": [
    {
     "name": "stdout",
     "output_type": "stream",
     "text": [
      "0\n",
      "1\n",
      "2\n"
     ]
    }
   ],
   "source": [
    "for i in range(5):\n",
    "    if i == 3:\n",
    "        break       # stop loop when i=3\n",
    "    print(i)"
   ]
  },
  {
   "cell_type": "markdown",
   "id": "3f0cf4db",
   "metadata": {},
   "source": [
    "👉 Output: `0 1 2`"
   ]
  },
  {
   "cell_type": "code",
   "execution_count": 5,
   "id": "fdf31f78",
   "metadata": {},
   "outputs": [
    {
     "name": "stdout",
     "output_type": "stream",
     "text": [
      "0\n",
      "1\n",
      "2\n",
      "4\n"
     ]
    }
   ],
   "source": [
    "for i in range(5):\n",
    "    if i == 3:\n",
    "        continue    # skip i=3\n",
    "    print(i)"
   ]
  },
  {
   "cell_type": "markdown",
   "id": "6e6e40a1",
   "metadata": {},
   "source": [
    "👉 Output: `0 1 2 4`"
   ]
  },
  {
   "cell_type": "markdown",
   "id": "f76b4333",
   "metadata": {},
   "source": [
    "---"
   ]
  },
  {
   "cell_type": "markdown",
   "id": "b6c8db20",
   "metadata": {},
   "source": [
    "# 🔹 4. Combining with `else`\n",
    "\n",
    "Loops can have an **`else` block** that runs if the loop finishes normally (not stopped by `break`)."
   ]
  },
  {
   "cell_type": "code",
   "execution_count": 6,
   "id": "85364fb0",
   "metadata": {},
   "outputs": [
    {
     "name": "stdout",
     "output_type": "stream",
     "text": [
      "0\n",
      "1\n",
      "2\n",
      "Loop finished!\n"
     ]
    }
   ],
   "source": [
    "for i in range(3):\n",
    "    print(i)\n",
    "else:\n",
    "    print(\"Loop finished!\")\n"
   ]
  },
  {
   "cell_type": "markdown",
   "id": "fddb13b3",
   "metadata": {},
   "source": [
    "---"
   ]
  },
  {
   "cell_type": "markdown",
   "id": "5c5d41a7",
   "metadata": {},
   "source": [
    "# 🔹 Quick Summary\n",
    "\n",
    "- **For loop** → repeat for each item in a sequence.\n",
    "- **While loop** → repeat while a condition is true.\n",
    "- **break** → exit loop early.\n",
    "- **continue** → skip current step.\n",
    "- **else** → runs if loop wasn’t broken."
   ]
  },
  {
   "cell_type": "markdown",
   "id": "f291bfae",
   "metadata": {},
   "source": [
    "---"
   ]
  },
  {
   "cell_type": "markdown",
   "id": "b3364320",
   "metadata": {},
   "source": [
    "# 🔹 Practice 📝\n",
    "\n",
    "1. Use a **for loop** to print numbers from 1 → 10.\n",
    "2. Use a **while loop** to count down from 5 → 1.\n",
    "3. Loop through a word (like `\"Python\"`) and print each letter.\n",
    "4. Use a loop to find the first number divisible by 7 between 1 and 20.\n",
    "\n"
   ]
  },
  {
   "cell_type": "markdown",
   "id": "5f88fb99",
   "metadata": {},
   "source": [
    "---"
   ]
  }
 ],
 "metadata": {
  "kernelspec": {
   "display_name": "base",
   "language": "python",
   "name": "python3"
  },
  "language_info": {
   "codemirror_mode": {
    "name": "ipython",
    "version": 3
   },
   "file_extension": ".py",
   "mimetype": "text/x-python",
   "name": "python",
   "nbconvert_exporter": "python",
   "pygments_lexer": "ipython3",
   "version": "3.13.5"
  }
 },
 "nbformat": 4,
 "nbformat_minor": 5
}
