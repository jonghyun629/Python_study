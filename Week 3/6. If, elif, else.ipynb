{
 "cells": [
  {
   "cell_type": "markdown",
   "id": "206e2905",
   "metadata": {},
   "source": [
    "# 🔹 1. `if` Statement\n",
    "\n",
    "Runs a block of code **only if** the condition is `True`."
   ]
  },
  {
   "cell_type": "code",
   "execution_count": 1,
   "id": "f4beadce",
   "metadata": {},
   "outputs": [
    {
     "name": "stdout",
     "output_type": "stream",
     "text": [
      "x is greater than 5\n"
     ]
    }
   ],
   "source": [
    "x = 10\n",
    "\n",
    "if x > 5:\n",
    "    print(\"x is greater than 5\")"
   ]
  },
  {
   "cell_type": "markdown",
   "id": "459cdfd9",
   "metadata": {},
   "source": [
    "\n",
    "👉 Output: `x is greater than 5`"
   ]
  },
  {
   "cell_type": "markdown",
   "id": "c324c0bf",
   "metadata": {},
   "source": [
    "---"
   ]
  },
  {
   "cell_type": "markdown",
   "id": "df0e4f15",
   "metadata": {},
   "source": [
    "# 🔹 2. `if / else`\n",
    "\n",
    "The `else` block runs if the `if` condition is **False**."
   ]
  },
  {
   "cell_type": "code",
   "execution_count": 2,
   "id": "452c37c3",
   "metadata": {},
   "outputs": [
    {
     "name": "stdout",
     "output_type": "stream",
     "text": [
      "You are a minor\n"
     ]
    }
   ],
   "source": [
    "age = 15\n",
    "\n",
    "if age >= 18:\n",
    "    print(\"You are an adult\")\n",
    "else:\n",
    "    print(\"You are a minor\")"
   ]
  },
  {
   "cell_type": "markdown",
   "id": "c96076f2",
   "metadata": {},
   "source": [
    "👉 Output: `You are a minor`"
   ]
  },
  {
   "cell_type": "markdown",
   "id": "0369bf7f",
   "metadata": {},
   "source": [
    "---"
   ]
  },
  {
   "cell_type": "markdown",
   "id": "074a7511",
   "metadata": {},
   "source": [
    "# 🔹 3. `if / elif / else`\n",
    "\n",
    "`elif` (short for *else if*) checks another condition if the first is `False`."
   ]
  },
  {
   "cell_type": "code",
   "execution_count": 3,
   "id": "088c2961",
   "metadata": {},
   "outputs": [
    {
     "name": "stdout",
     "output_type": "stream",
     "text": [
      "Grade: B\n"
     ]
    }
   ],
   "source": [
    "score = 85\n",
    "\n",
    "if score >= 90:\n",
    "    print(\"Grade: A\")\n",
    "elif score >= 80:\n",
    "    print(\"Grade: B\")\n",
    "elif score >= 70:\n",
    "    print(\"Grade: C\")\n",
    "else:\n",
    "    print(\"Grade: F\")"
   ]
  },
  {
   "cell_type": "markdown",
   "id": "65acf7ec",
   "metadata": {},
   "source": [
    "👉 Output: `Grade: B`"
   ]
  },
  {
   "cell_type": "markdown",
   "id": "dffd5f83",
   "metadata": {},
   "source": [
    "---"
   ]
  },
  {
   "cell_type": "markdown",
   "id": "4e5f9683",
   "metadata": {},
   "source": [
    "# 🔹 4. Nested `if`\n",
    "\n",
    "You can put an `if` inside another `if`."
   ]
  },
  {
   "cell_type": "code",
   "execution_count": 4,
   "id": "4d7ac628",
   "metadata": {},
   "outputs": [
    {
     "name": "stdout",
     "output_type": "stream",
     "text": [
      "You can enter.\n"
     ]
    }
   ],
   "source": [
    "age = 20\n",
    "has_id = True\n",
    "\n",
    "if age >= 18:\n",
    "    if has_id:\n",
    "        print(\"You can enter.\")\n",
    "    else:\n",
    "        print(\"You need an ID.\")\n",
    "else:\n",
    "    print(\"You are too young.\")"
   ]
  },
  {
   "cell_type": "markdown",
   "id": "bf7271fa",
   "metadata": {},
   "source": [
    "---"
   ]
  },
  {
   "cell_type": "markdown",
   "id": "7c14da70",
   "metadata": {},
   "source": [
    "# 🔹 5. Short `if` (Ternary Operator)\n",
    "\n",
    "You can write it in one line:\n"
   ]
  },
  {
   "cell_type": "code",
   "execution_count": 5,
   "id": "57d1251b",
   "metadata": {},
   "outputs": [
    {
     "name": "stdout",
     "output_type": "stream",
     "text": [
      "Odd\n"
     ]
    }
   ],
   "source": [
    "x = 5\n",
    "result = \"Even\" if x % 2 == 0 else \"Odd\"\n",
    "print(result)   # Odd"
   ]
  },
  {
   "cell_type": "markdown",
   "id": "7dc8a12a",
   "metadata": {},
   "source": [
    "---"
   ]
  },
  {
   "cell_type": "markdown",
   "id": "00501288",
   "metadata": {},
   "source": [
    "# 🔹 Quick Summary\n",
    "\n",
    "- **`if`** → checks first condition.\n",
    "- **`elif`** → extra conditions.\n",
    "- **`else`** → default, if nothing above is true.\n"
   ]
  },
  {
   "cell_type": "markdown",
   "id": "cc548474",
   "metadata": {},
   "source": [
    "---"
   ]
  },
  {
   "cell_type": "markdown",
   "id": "b3364320",
   "metadata": {},
   "source": [
    "# 🔹 Practice 📝\n",
    "\n",
    "1. Ask the user for a number → print if it’s **positive, negative, or zero**.\n",
    "2. Ask for age → print `\"Child\"`, `\"Teen\"`, `\"Adult\"`.\n",
    "3. Write a grading program:\n",
    "    - `90+` → A\n",
    "    - `80+` → B\n",
    "    - `70+` → C\n",
    "    - else → F"
   ]
  },
  {
   "cell_type": "markdown",
   "id": "5f88fb99",
   "metadata": {},
   "source": [
    "---"
   ]
  }
 ],
 "metadata": {
  "kernelspec": {
   "display_name": "base",
   "language": "python",
   "name": "python3"
  },
  "language_info": {
   "codemirror_mode": {
    "name": "ipython",
    "version": 3
   },
   "file_extension": ".py",
   "mimetype": "text/x-python",
   "name": "python",
   "nbconvert_exporter": "python",
   "pygments_lexer": "ipython3",
   "version": "3.13.5"
  }
 },
 "nbformat": 4,
 "nbformat_minor": 5
}
