{
 "cells": [
  {
   "cell_type": "markdown",
   "id": "0d777442",
   "metadata": {},
   "source": [
    "# 🔹 What is a Nested Loop?\n",
    "\n",
    "A **nested loop** is a loop inside another loop.\n",
    "\n",
    "- The **outer loop** runs first.\n",
    "- For **each iteration** of the outer loop, the **inner loop** runs completely.\n"
   ]
  },
  {
   "cell_type": "markdown",
   "id": "775790db",
   "metadata": {},
   "source": [
    "---"
   ]
  },
  {
   "cell_type": "markdown",
   "id": "cad1dedd",
   "metadata": {},
   "source": [
    "# 🔹 Example 1: Nested `for` loop"
   ]
  },
  {
   "cell_type": "code",
   "execution_count": 1,
   "id": "e5968c3e",
   "metadata": {},
   "outputs": [
    {
     "name": "stdout",
     "output_type": "stream",
     "text": [
      "i=0, j=0\n",
      "i=0, j=1\n",
      "i=1, j=0\n",
      "i=1, j=1\n",
      "i=2, j=0\n",
      "i=2, j=1\n"
     ]
    }
   ],
   "source": [
    "for i in range(3):          # outer loop\n",
    "    for j in range(2):      # inner loop\n",
    "        print(f\"i={i}, j={j}\")"
   ]
  },
  {
   "cell_type": "markdown",
   "id": "8fe747bb",
   "metadata": {},
   "source": [
    "👉 Output:\n",
    "\n",
    "```\n",
    "i=0, j=0\n",
    "i=0, j=1\n",
    "i=1, j=0\n",
    "i=1, j=1\n",
    "i=2, j=0\n",
    "i=2, j=1\n",
    "\n",
    "```"
   ]
  },
  {
   "cell_type": "markdown",
   "id": "2bb26257",
   "metadata": {},
   "source": [
    "---"
   ]
  },
  {
   "cell_type": "markdown",
   "id": "9f400a35",
   "metadata": {},
   "source": [
    "# 🔹 Example 2: Printing a Pattern"
   ]
  },
  {
   "cell_type": "code",
   "execution_count": 2,
   "id": "83b19c56",
   "metadata": {},
   "outputs": [
    {
     "name": "stdout",
     "output_type": "stream",
     "text": [
      "* \n",
      "* * \n",
      "* * * \n"
     ]
    }
   ],
   "source": [
    "for i in range(1, 4):        # rows\n",
    "    for j in range(1, i+1):  # columns\n",
    "        print(\"*\", end=\" \")\n",
    "    print()   # new line after inner loop"
   ]
  },
  {
   "cell_type": "markdown",
   "id": "6cf3ddd9",
   "metadata": {},
   "source": [
    "👉 Output:\n",
    "\n",
    "```\n",
    "*\n",
    "* *\n",
    "* * *\n",
    "\n",
    "```"
   ]
  },
  {
   "cell_type": "markdown",
   "id": "a3b9d53f",
   "metadata": {},
   "source": [
    "---"
   ]
  },
  {
   "cell_type": "markdown",
   "id": "cbe54003",
   "metadata": {},
   "source": [
    "# 🔹 Example 3: Nested `while` loop"
   ]
  },
  {
   "cell_type": "code",
   "execution_count": 3,
   "id": "f262f786",
   "metadata": {},
   "outputs": [
    {
     "name": "stdout",
     "output_type": "stream",
     "text": [
      "i=1, j=1\n",
      "i=1, j=2\n",
      "i=2, j=1\n",
      "i=2, j=2\n",
      "i=3, j=1\n",
      "i=3, j=2\n"
     ]
    }
   ],
   "source": [
    "i = 1\n",
    "while i <= 3:\n",
    "    j = 1\n",
    "    while j <= 2:\n",
    "        print(f\"i={i}, j={j}\")\n",
    "        j += 1\n",
    "    i += 1"
   ]
  },
  {
   "cell_type": "markdown",
   "id": "57e18ed1",
   "metadata": {},
   "source": [
    "---"
   ]
  },
  {
   "cell_type": "markdown",
   "id": "c00a77c4",
   "metadata": {},
   "source": [
    "# 🔹 Example 4: Looping through a 2D List\n"
   ]
  },
  {
   "cell_type": "code",
   "execution_count": 4,
   "id": "1b64604f",
   "metadata": {},
   "outputs": [
    {
     "name": "stdout",
     "output_type": "stream",
     "text": [
      "1 2 3 \n",
      "4 5 6 \n",
      "7 8 9 \n"
     ]
    }
   ],
   "source": [
    "matrix = [[1, 2, 3],\n",
    "          [4, 5, 6],\n",
    "          [7, 8, 9]]\n",
    "\n",
    "for row in matrix:\n",
    "    for num in row:\n",
    "        print(num, end=\" \")\n",
    "    print()"
   ]
  },
  {
   "cell_type": "markdown",
   "id": "6c55214a",
   "metadata": {},
   "source": [
    "👉 Output:\n",
    "\n",
    "```\n",
    "1 2 3\n",
    "4 5 6\n",
    "7 8 9\n",
    "\n",
    "```"
   ]
  },
  {
   "cell_type": "markdown",
   "id": "1ba2ce50",
   "metadata": {},
   "source": [
    "---"
   ]
  },
  {
   "cell_type": "markdown",
   "id": "889eab76",
   "metadata": {},
   "source": [
    "# 🔹 Quick Summary\n",
    "\n",
    "- A **nested loop** = loop inside another loop.\n",
    "- Commonly used for **patterns, grids, 2D lists, matrices, tables**.\n",
    "- Inner loop runs fully for **each** outer loop iteration.\n"
   ]
  },
  {
   "cell_type": "markdown",
   "id": "9365c743",
   "metadata": {},
   "source": [
    "---"
   ]
  },
  {
   "cell_type": "markdown",
   "id": "b3364320",
   "metadata": {},
   "source": [
    "# 🔹 Practice 📝\n",
    "\n",
    "1. Use nested loops to print this multiplication table (1–3):\n",
    "\n",
    "```\n",
    "1 x 1 = 1\n",
    "1 x 2 = 2\n",
    "...\n",
    "3 x 3 = 9\n",
    "\n",
    "```\n",
    "\n",
    "1. Print a square of `#` with size 4×4.\n",
    "2. Print all pairs of numbers from 1 to 3.\n"
   ]
  },
  {
   "cell_type": "markdown",
   "id": "5f88fb99",
   "metadata": {},
   "source": [
    "---"
   ]
  },
  {
   "cell_type": "markdown",
   "id": "1989ca00",
   "metadata": {},
   "source": []
  }
 ],
 "metadata": {
  "kernelspec": {
   "display_name": "base",
   "language": "python",
   "name": "python3"
  },
  "language_info": {
   "codemirror_mode": {
    "name": "ipython",
    "version": 3
   },
   "file_extension": ".py",
   "mimetype": "text/x-python",
   "name": "python",
   "nbconvert_exporter": "python",
   "pygments_lexer": "ipython3",
   "version": "3.13.5"
  }
 },
 "nbformat": 4,
 "nbformat_minor": 5
}
